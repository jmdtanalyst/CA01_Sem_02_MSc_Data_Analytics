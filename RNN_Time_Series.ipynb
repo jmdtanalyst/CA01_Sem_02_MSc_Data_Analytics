{
 "cells": [
  {
   "cell_type": "markdown",
   "id": "c06ac3df",
   "metadata": {},
   "source": [
    "# Import necessary libraries \n"
   ]
  },
  {
   "cell_type": "code",
   "execution_count": 28,
   "id": "6597ce75",
   "metadata": {},
   "outputs": [],
   "source": [
    "from pyspark.sql import SparkSession\n",
    "from pyspark.sql.functions import col, window, sum\n",
    "import matplotlib.pyplot as plt\n",
    "\n"
   ]
  },
  {
   "cell_type": "markdown",
   "id": "1d003485",
   "metadata": {},
   "source": [
    "# Create a spark Session"
   ]
  },
  {
   "cell_type": "code",
   "execution_count": 3,
   "id": "c4a6b581",
   "metadata": {},
   "outputs": [
    {
     "name": "stdout",
     "output_type": "stream",
     "text": [
      "24/03/15 21:34:49 WARN SparkSession: Using an existing Spark session; only runtime SQL configurations will take effect.\n"
     ]
    }
   ],
   "source": [
    "# Create a SparkSession\n",
    "spark = SparkSession.builder.appName(\"CA01_Sem_02\").getOrCreate()"
   ]
  },
  {
   "cell_type": "markdown",
   "id": "f05bd3d2",
   "metadata": {},
   "source": [
    "### Data_Ingestion Module\n",
    " To leverage the use of hadoop,  this module was created to read the csv files into a pyspark dataframe and save on hadoop hdfs system"
   ]
  },
  {
   "cell_type": "code",
   "execution_count": 41,
   "id": "28b7c95d",
   "metadata": {},
   "outputs": [],
   "source": [
    "\n",
    "# data_ingestion function: Loads all CSV files in a directory using PySpark and saves them to a specified output path on HDFS.\n",
    "# Args: \n",
    "    # path: Path to the directory containing CSV files  \n",
    "    # hd_path: Hadoop path on HDFS to save the processed files\n",
    "\n",
    "def data_ingestion( path, hd_path):\n",
    "    \n",
    "    try:\n",
    "        # Read all files in the directory matching the CSV extension (*.csv)\n",
    "        df = spark.read.csv(path, header=True, inferSchema = True)\n",
    "\n",
    "        # Save the DataFrame to Hadoop server - HDFS\n",
    "        df.write.mode(\"overwrite\").csv(hd_path, header=True)\n",
    "        print('Data Ingestion Completed')\n",
    "\n",
    "    except Exception as e:\n",
    "        print(\"An error occurred:\", e)\n",
    "    \n",
    "    \n",
    "    "
   ]
  },
  {
   "cell_type": "markdown",
   "id": "185609a8",
   "metadata": {},
   "source": [
    "# Running the data_ingestion function"
   ]
  },
  {
   "cell_type": "code",
   "execution_count": 4,
   "id": "f71585d6",
   "metadata": {},
   "outputs": [
    {
     "data": {
      "text/plain": [
       "'/home/hduser/Documents/CA01_Sem_02_MSc_Data_Analytics'"
      ]
     },
     "execution_count": 4,
     "metadata": {},
     "output_type": "execute_result"
    }
   ],
   "source": [
    "pwd\n"
   ]
  },
  {
   "cell_type": "code",
   "execution_count": 42,
   "id": "c20a8ede",
   "metadata": {},
   "outputs": [
    {
     "name": "stderr",
     "output_type": "stream",
     "text": [
      "                                                                                \r"
     ]
    },
    {
     "name": "stdout",
     "output_type": "stream",
     "text": [
      "Data Ingestion Completed\n"
     ]
    }
   ],
   "source": [
    "\n",
    "# path to directory where the files are\n",
    "path = \"file:///home/hduser/Documents/CA01_Sem_02_MSc_Data_Analytics/*.csv\"\n",
    "\n",
    "# path where the files should be saved on hadoop\n",
    "hd_path = \"/user/hduser/bike_data/\"\n",
    "\n",
    "# Call the processing function\n",
    "data_ingestion(path, hd_path)\n"
   ]
  },
  {
   "cell_type": "code",
   "execution_count": null,
   "id": "03e86915",
   "metadata": {},
   "outputs": [],
   "source": []
  },
  {
   "cell_type": "markdown",
   "id": "a3efcce0",
   "metadata": {},
   "source": [
    "# Load data from hadoop"
   ]
  },
  {
   "cell_type": "code",
   "execution_count": 9,
   "id": "3829c623",
   "metadata": {},
   "outputs": [
    {
     "name": "stderr",
     "output_type": "stream",
     "text": [
      "                                                                                \r"
     ]
    },
    {
     "name": "stdout",
     "output_type": "stream",
     "text": [
      "+----------------+-------------+-------------------+-------------------+--------------------+----------------+--------------------+--------------+---------+----------+-----------------+------------------+-------------+\n",
      "|         ride_id|rideable_type|         started_at|           ended_at|  start_station_name|start_station_id|    end_station_name|end_station_id|start_lat| start_lng|          end_lat|           end_lng|member_casual|\n",
      "+----------------+-------------+-------------------+-------------------+--------------------+----------------+--------------------+--------------+---------+----------+-----------------+------------------+-------------+\n",
      "|20CAF4CAD9186B1C|  docked_bike|2023-03-26 16:52:35|2023-03-26 17:22:08|Washington & Inde...|           31272|15th St & Constit...|         31321|38.886978|-77.013769|        38.892244|        -77.033234|       casual|\n",
      "|695D9110D59A0A42| classic_bike|2023-03-28 16:51:30|2023-03-28 17:06:32|      11th & C St SE|           31659|D St & Maryland A...|         31612|38.885908|-76.991476|38.89484064247075|-76.99591577053069|       member|\n",
      "+----------------+-------------+-------------------+-------------------+--------------------+----------------+--------------------+--------------+---------+----------+-----------------+------------------+-------------+\n",
      "only showing top 2 rows\n",
      "\n"
     ]
    }
   ],
   "source": [
    "\n",
    "hd_path = \"/user/hduser/bike_data/\"\n",
    "\n",
    "try:\n",
    "   \n",
    "\n",
    "  # Read the CSV files using the specified path\n",
    "  df = spark.read.csv(hd_path, header = True, inferSchema = True)\n",
    "\n",
    "  # Print the first few rows of the DataFrame (optional)\n",
    "  df.show(2)\n",
    "\n",
    "   \n",
    "except Exception as e:\n",
    "    print(\"An error occurred:\", str(e))\n"
   ]
  },
  {
   "cell_type": "code",
   "execution_count": 10,
   "id": "c6cc7829",
   "metadata": {},
   "outputs": [
    {
     "name": "stdout",
     "output_type": "stream",
     "text": [
      "root\n",
      " |-- ride_id: string (nullable = true)\n",
      " |-- rideable_type: string (nullable = true)\n",
      " |-- started_at: timestamp (nullable = true)\n",
      " |-- ended_at: timestamp (nullable = true)\n",
      " |-- start_station_name: string (nullable = true)\n",
      " |-- start_station_id: integer (nullable = true)\n",
      " |-- end_station_name: string (nullable = true)\n",
      " |-- end_station_id: integer (nullable = true)\n",
      " |-- start_lat: double (nullable = true)\n",
      " |-- start_lng: double (nullable = true)\n",
      " |-- end_lat: double (nullable = true)\n",
      " |-- end_lng: double (nullable = true)\n",
      " |-- member_casual: string (nullable = true)\n",
      "\n"
     ]
    }
   ],
   "source": [
    "df.printSchema()"
   ]
  },
  {
   "cell_type": "markdown",
   "id": "4bbb5164",
   "metadata": {},
   "source": [
    "### Checking the shape of the dataframe\\\n"
   ]
  },
  {
   "cell_type": "code",
   "execution_count": 11,
   "id": "0a653eaf",
   "metadata": {},
   "outputs": [
    {
     "name": "stderr",
     "output_type": "stream",
     "text": [
      "[Stage 3:==============================================>           (8 + 2) / 10]\r"
     ]
    },
    {
     "name": "stdout",
     "output_type": "stream",
     "text": [
      "(4467334, 13)\n"
     ]
    },
    {
     "name": "stderr",
     "output_type": "stream",
     "text": [
      "\r",
      "                                                                                \r"
     ]
    }
   ],
   "source": [
    "print((df.count(), len(df.columns)))"
   ]
  },
  {
   "cell_type": "markdown",
   "id": "f851bb4e",
   "metadata": {},
   "source": [
    "When it comes to using RNNs for time series forecasting or analysis, the data structure must have some level of consistency, as each row of the dataset represents one trip, only  a new column was created to represent the tripa and only  date and trips were selected from the dataset"
   ]
  },
  {
   "cell_type": "code",
   "execution_count": 14,
   "id": "afd99f18",
   "metadata": {},
   "outputs": [],
   "source": [
    "trips = df.select(\"started_at\")"
   ]
  },
  {
   "cell_type": "code",
   "execution_count": 20,
   "id": "2adf0192",
   "metadata": {},
   "outputs": [],
   "source": [
    "trips = trips.withColumn(\"trips\", lit(1))"
   ]
  },
  {
   "cell_type": "code",
   "execution_count": 23,
   "id": "57cf54c7",
   "metadata": {},
   "outputs": [
    {
     "name": "stdout",
     "output_type": "stream",
     "text": [
      "+-------------------+-----+\n",
      "|         started_at|trips|\n",
      "+-------------------+-----+\n",
      "|2023-03-26 16:52:35|    1|\n",
      "|2023-03-28 16:51:30|    1|\n",
      "|2023-03-28 19:25:55|    1|\n",
      "+-------------------+-----+\n",
      "only showing top 3 rows\n",
      "\n"
     ]
    }
   ],
   "source": [
    "trips.show(3)"
   ]
  },
  {
   "cell_type": "code",
   "execution_count": 26,
   "id": "c42c7242",
   "metadata": {},
   "outputs": [
    {
     "name": "stdout",
     "output_type": "stream",
     "text": [
      "root\n",
      " |-- started_at: timestamp (nullable = true)\n",
      " |-- trips: integer (nullable = false)\n",
      "\n"
     ]
    }
   ],
   "source": [
    "trips.printSchema()"
   ]
  },
  {
   "cell_type": "code",
   "execution_count": 30,
   "id": "04b9ddb0",
   "metadata": {},
   "outputs": [],
   "source": [
    "window_spec = window(trips['started_at'], \"1 day\")\n",
    "daily_df = trips.groupBy(window_spec).agg(sum(\"trips\").alias(\"total_trips\"))\n"
   ]
  },
  {
   "cell_type": "code",
   "execution_count": 35,
   "id": "1b293a8e",
   "metadata": {},
   "outputs": [],
   "source": [
    "daily_df = daily_df.orderBy(\"window\")"
   ]
  },
  {
   "cell_type": "code",
   "execution_count": 39,
   "id": "944d4a55",
   "metadata": {
    "scrolled": true
   },
   "outputs": [
    {
     "name": "stderr",
     "output_type": "stream",
     "text": [
      "[Stage 25:=============================================>           (8 + 2) / 10]\r"
     ]
    },
    {
     "name": "stdout",
     "output_type": "stream",
     "text": [
      "+--------------------+-----------+\n",
      "|              window|total_trips|\n",
      "+--------------------+-----------+\n",
      "|{2023-01-01 00:00...|       6787|\n",
      "|{2023-01-02 00:00...|       7240|\n",
      "|{2023-01-03 00:00...|       7559|\n",
      "|{2023-01-04 00:00...|       7791|\n",
      "|{2023-01-05 00:00...|       8409|\n",
      "|{2023-01-06 00:00...|       6719|\n",
      "|{2023-01-07 00:00...|       7122|\n",
      "|{2023-01-08 00:00...|       5176|\n",
      "|{2023-01-09 00:00...|       6520|\n",
      "|{2023-01-10 00:00...|       7303|\n",
      "+--------------------+-----------+\n",
      "only showing top 10 rows\n",
      "\n"
     ]
    },
    {
     "name": "stderr",
     "output_type": "stream",
     "text": [
      "\r",
      "[Stage 25:===================================================>     (9 + 1) / 10]\r",
      "\r",
      "                                                                                \r"
     ]
    }
   ],
   "source": [
    "daily_df.show(10)"
   ]
  },
  {
   "cell_type": "code",
   "execution_count": 43,
   "id": "e26b3841",
   "metadata": {},
   "outputs": [
    {
     "name": "stderr",
     "output_type": "stream",
     "text": [
      "[Stage 48:=============================================>           (8 + 2) / 10]\r"
     ]
    },
    {
     "name": "stdout",
     "output_type": "stream",
     "text": [
      "+-------+------------------+\n",
      "|summary|       total_trips|\n",
      "+-------+------------------+\n",
      "|  count|               365|\n",
      "|   mean|12239.271232876712|\n",
      "| stddev|3994.0335144678165|\n",
      "|    min|              2369|\n",
      "|    max|             20258|\n",
      "+-------+------------------+\n",
      "\n"
     ]
    },
    {
     "name": "stderr",
     "output_type": "stream",
     "text": [
      "\r",
      "                                                                                \r"
     ]
    }
   ],
   "source": [
    "daily_df.describe().show()"
   ]
  },
  {
   "cell_type": "code",
   "execution_count": 45,
   "id": "f0569343",
   "metadata": {},
   "outputs": [
    {
     "data": {
      "image/png": "[encoded data removed]",
      "text/plain": [
       "<Figure size 720x432 with 1 Axes>"
      ]
     },
     "metadata": {
      "needs_background": "light"
     },
     "output_type": "display_data"
    }
   ],
   "source": [
    "# Converting PySpark DataFrame to Pandas DataFrame\n",
    "pandas_df = daily_df.toPandas()\n",
    "\n",
    "# Plotting a histogram\n",
    "plt.figure(figsize=(10, 6))\n",
    "plt.hist(pandas_df['total_trips'], bins=20, color='skyblue', edgecolor='black')\n",
    "plt.title('Distribution of Total Trips per Day')\n",
    "plt.xlabel('Total Trips')\n",
    "plt.ylabel('Frequency')\n",
    "plt.grid(False)\n",
    "plt.show()\n"
   ]
  },
  {
   "cell_type": "code",
   "execution_count": 59,
   "id": "4205963b",
   "metadata": {},
   "outputs": [],
   "source": [
    "trips = pandas_df.iloc[:,-1]"
   ]
  },
  {
   "cell_type": "code",
   "execution_count": 63,
   "id": "760f36b0",
   "metadata": {},
   "outputs": [
    {
     "data": {
      "text/plain": [
       "pandas.core.series.Series"
      ]
     },
     "execution_count": 63,
     "metadata": {},
     "output_type": "execute_result"
    }
   ],
   "source": [
    "type(trips)"
   ]
  },
  {
   "cell_type": "code",
   "execution_count": 68,
   "id": "95ca1143",
   "metadata": {},
   "outputs": [
    {
     "data": {
      "image/png": "[encoded data removed]",
      "text/plain": [
       "<Figure size 1080x216 with 1 Axes>"
      ]
     },
     "metadata": {
      "needs_background": "light"
     },
     "output_type": "display_data"
    }
   ],
   "source": [
    "plt.figure(figsize=(15, 3))\n",
    "\n",
    "trips.plot(kind='line') \n",
    "\n",
    "plt.title(\"Trips per Day\")\n",
    "plt.xlabel(\"Day\")\n",
    "plt.ylabel(\"Trips\")\n",
    "plt.grid(False)\n",
    "plt.show()"
   ]
  }
 ],
 "metadata": {
  "kernelspec": {
   "display_name": "Python 3 (ipykernel)",
   "language": "python",
   "name": "python3"
  },
  "language_info": {
   "codemirror_mode": {
    "name": "ipython",
    "version": 3
   },
   "file_extension": ".py",
   "mimetype": "text/x-python",
   "name": "python",
   "nbconvert_exporter": "python",
   "pygments_lexer": "ipython3",
   "version": "3.10.12"
  }
 },
 "nbformat": 4,
 "nbformat_minor": 5
}
