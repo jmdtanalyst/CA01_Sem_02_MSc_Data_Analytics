{
 "cells": [
  {
   "cell_type": "code",
   "execution_count": null,
   "id": "6597ce75",
   "metadata": {},
   "outputs": [],
   "source": [
    "from pyspark.sql import SparkSession\n",
    "import pandas as pd\n"
   ]
  },
  {
   "cell_type": "code",
   "execution_count": null,
   "id": "3ac1a3b6",
   "metadata": {},
   "outputs": [
    {
     "name": "stdout",
     "output_type": "stream",
     "text": [
      "Found 9 items\n",
      "-rw-r--r--   1 hduser supergroup          0 2024-03-14 16:03 /user/hduser/bike_data/_SUCCESS\n",
      "-rw-r--r--   1 hduser supergroup    5102049 2024-03-14 16:03 /user/hduser/bike_data/part-00000-7182bf7f-3f3a-4343-85d0-c54c7e8f60f6-c000.csv\n",
      "-rw-r--r--   1 hduser supergroup    5102988 2024-03-14 16:03 /user/hduser/bike_data/part-00001-7182bf7f-3f3a-4343-85d0-c54c7e8f60f6-c000.csv\n",
      "-rw-r--r--   1 hduser supergroup    5102107 2024-03-14 16:03 /user/hduser/bike_data/part-00002-7182bf7f-3f3a-4343-85d0-c54c7e8f60f6-c000.csv\n",
      "-rw-r--r--   1 hduser supergroup    5099273 2024-03-14 16:03 /user/hduser/bike_data/part-00003-7182bf7f-3f3a-4343-85d0-c54c7e8f60f6-c000.csv\n",
      "-rw-r--r--   1 hduser supergroup    5099012 2024-03-14 16:03 /user/hduser/bike_data/part-00004-7182bf7f-3f3a-4343-85d0-c54c7e8f60f6-c000.csv\n",
      "-rw-r--r--   1 hduser supergroup    5099230 2024-03-14 16:03 /user/hduser/bike_data/part-00005-7182bf7f-3f3a-4343-85d0-c54c7e8f60f6-c000.csv\n",
      "-rw-r--r--   1 hduser supergroup    5102305 2024-03-14 16:03 /user/hduser/bike_data/part-00006-7182bf7f-3f3a-4343-85d0-c54c7e8f60f6-c000.csv\n",
      "-rw-r--r--   1 hduser supergroup    1302249 2024-03-14 16:03 /user/hduser/bike_data/part-00007-7182bf7f-3f3a-4343-85d0-c54c7e8f60f6-c000.csv\n"
     ]
    }
   ],
   "source": [
    "!hdfs dfs -ls /user/hduser/bike_data"
   ]
  },
  {
   "cell_type": "code",
   "execution_count": null,
   "id": "61484acc",
   "metadata": {},
   "outputs": [
    {
     "data": {
      "text/plain": [
       "'/home/hduser'"
      ]
     },
     "execution_count": 5,
     "metadata": {},
     "output_type": "execute_result"
    }
   ],
   "source": [
    "pwd"
   ]
  },
  {
   "cell_type": "code",
   "execution_count": 6,
   "id": "e1806cce",
   "metadata": {},
   "outputs": [
    {
     "name": "stdout",
     "output_type": "stream",
     "text": [
      "/home/hduser/Documents/CA01_Sem_02_MSc_Data_Analytics\n"
     ]
    }
   ],
   "source": [
    " cd Documents/CA01_Sem_02_MSc_Data_Analytics/"
   ]
  },
  {
   "cell_type": "code",
   "execution_count": 7,
   "id": "c2ced0fa",
   "metadata": {},
   "outputs": [
    {
     "name": "stdout",
     "output_type": "stream",
     "text": [
      " 202301-capitalbikeshare-tripdata.csv\n",
      " 202302-captialbikeshare-tripdata.csv\n",
      " 202303-capitalbikeshare-tripdata.csv\n",
      " 202304-capitalbikeshare-tripdata.csv\n",
      " 202305-capitalbikeshare-tripdata.csv\n",
      " 202306-capitalbikeshare-tripdata.csv\n",
      " 202307-capitalbikeshare-tripdata.csv\n",
      " 202308-capitalbikeshare-tripdata.csv\n",
      " 202309-capitalbikeshare-tripdata.csv\n",
      " 202310-capitalbikeshare-tripdata.csv\n",
      " 202311-capitalbikeshare-tripdata.csv\n",
      " 202312-capitalbikeshare-tripdata.csv\n",
      " CNN_Eircode_Mail_Classification.ipynb\n",
      " CNN_Mail_Classification_old.ipynb\n",
      "'Integrated CA1 Sem 2 MSc in Data Analytics V4.docx'\n",
      " \u001b[0m\u001b[01;34mpapers\u001b[0m/\n",
      " README.md\n",
      " rnn.ipynb\n",
      " RNN_Time_Series.ipynb\n",
      " untitled.txt\n"
     ]
    }
   ],
   "source": [
    "ls"
   ]
  },
  {
   "cell_type": "code",
   "execution_count": 16,
   "id": "b28fddd1",
   "metadata": {},
   "outputs": [],
   "source": [
    "!hdfs dfs -mkdir /user1/bike_data\n",
    "!hdfs dfs -put  *.csv /user1/bike_data/"
   ]
  },
  {
   "cell_type": "code",
   "execution_count": null,
   "id": "400fb946",
   "metadata": {},
   "outputs": [],
   "source": []
  },
  {
   "cell_type": "markdown",
   "id": "1d003485",
   "metadata": {},
   "source": [
    "# Create a spark Session"
   ]
  },
  {
   "cell_type": "code",
   "execution_count": null,
   "id": "c4a6b581",
   "metadata": {},
   "outputs": [
    {
     "name": "stdout",
     "output_type": "stream",
     "text": [
      "24/03/15 11:26:01 WARN SparkSession: Using an existing Spark session; only runtime SQL configurations will take effect.\n"
     ]
    }
   ],
   "source": [
    "# Create a SparkSession\n",
    "spark = SparkSession.builder.appName(\"CA01_Sem_02\").getOrCreate()"
   ]
  },
  {
   "cell_type": "code",
   "execution_count": null,
   "id": "28b7c95d",
   "metadata": {},
   "outputs": [],
   "source": [
    "\n",
    "# data_ingestion function: Loads all CSV files in a directory using PySpark and saves them to a specified output path on HDFS.\n",
    "# Args: \n",
    "    # path: Path to the directory containing CSV files  \n",
    "    # hd_path: Hadoop path on HDFS to save the processed files\n",
    "\n",
    "def data_ingestion( path, hd_path):\n",
    "    \n",
    "    try:\n",
    "        # Read all files in the directory matching the CSV extension (*.csv)\n",
    "        df = spark.read.csv(f\"{path}/*.csv\", header=True)\n",
    "\n",
    "        # Save the DataFrame to Hadoop server - HDFS\n",
    "        df.write.mode(\"overwrite\").csv(hd_path)\n",
    "\n",
    "    except Exception as e:\n",
    "        print(\"An error occurred:\", e)\n",
    "    \n",
    "    \n",
    "    "
   ]
  },
  {
   "cell_type": "markdown",
   "id": "185609a8",
   "metadata": {},
   "source": [
    "# Running the data_ingestion fucntion"
   ]
  },
  {
   "cell_type": "code",
   "execution_count": null,
   "id": "c20a8ede",
   "metadata": {},
   "outputs": [],
   "source": [
    "\n",
    "\n",
    "# path to directory where the files are\n",
    "path = \"file:///home/hduser/Documents/CA01_Sem_02_MSc_Data_Analytics\"\n",
    "\n",
    "# path where the files should be saved on hadoop\n",
    "hd_path = \"/user/hduser/bike_data\"\n",
    "\n",
    "# Call the processing function\n",
    "data_ingestion(path, hd_path)\n"
   ]
  },
  {
   "cell_type": "code",
   "execution_count": null,
   "id": "03e86915",
   "metadata": {},
   "outputs": [],
   "source": []
  },
  {
   "cell_type": "markdown",
   "id": "a3efcce0",
   "metadata": {},
   "source": [
    "# Load data from hadoop"
   ]
  },
  {
   "cell_type": "code",
   "execution_count": null,
   "id": "3829c623",
   "metadata": {},
   "outputs": [
    {
     "name": "stdout",
     "output_type": "stream",
     "text": [
      "+----------------+-------------+-------------------+-------------------+--------------------+----------------+--------------------+--------------+----------------+------------------+---------+----------+-------------+\n",
      "|         ride_id|rideable_type|         started_at|           ended_at|  start_station_name|start_station_id|    end_station_name|end_station_id|       start_lat|         start_lng|  end_lat|   end_lng|member_casual|\n",
      "+----------------+-------------+-------------------+-------------------+--------------------+----------------+--------------------+--------------+----------------+------------------+---------+----------+-------------+\n",
      "|CB181909FC05004F|electric_bike|2023-10-29 09:10:14|2023-10-29 09:25:19|11th & Clifton St NW|           31136|L'Enfant Plaza / ...|         31218|    38.922089219|     -77.027171969|38.886266|-77.022241|       member|\n",
      "|77832F0C46F1B308| classic_bike|2023-10-28 12:26:17|2023-10-28 12:35:41|11th & Clifton St NW|           31136|Massachusetts Ave...|         31200|38.9223243445331|-77.02708572149277|  38.9101|  -77.0444|       member|\n",
      "|777600C797581E8F| classic_bike|2023-10-01 10:18:50|2023-10-01 10:51:19|12th St & New Yor...|           31670|Massachusetts Ave...|         31200|       38.901104|        -77.028061|  38.9101|  -77.0444|       casual|\n",
      "|8A8C4C384180159A| classic_bike|2023-10-05 10:40:56|2023-10-05 11:27:40|36th & Calvert St...|           31304|Massachusetts Ave...|         31200|       38.922581|        -77.070334|  38.9101|  -77.0444|       casual|\n",
      "|C3CD670D215D5202| classic_bike|2023-10-23 18:30:45|2023-10-23 18:43:23|W&OD Trail/Sunset...|           32220|W&OD Trail & Expl...|         32214|       38.951443|        -77.340377|38.957037|-77.359718|       casual|\n",
      "+----------------+-------------+-------------------+-------------------+--------------------+----------------+--------------------+--------------+----------------+------------------+---------+----------+-------------+\n",
      "only showing top 5 rows\n",
      "\n"
     ]
    }
   ],
   "source": [
    "\n",
    "hd_path = \"/user/hduser/bike_data\"\n",
    "new_path = \"/user1/bike_data/*.csv\"\n",
    "try:\n",
    "   \n",
    "\n",
    "  # Read the CSV files using the specified path\n",
    "  df = spark.read.csv(new_path, header = True)\n",
    "\n",
    "  # Print the first few rows of the DataFrame (optional)\n",
    "  df.show(5)\n",
    "\n",
    "   \n",
    "except Exception as e:\n",
    "    print(\"An error occurred:\", str(e))\n"
   ]
  },
  {
   "cell_type": "code",
   "execution_count": null,
   "id": "c6cc7829",
   "metadata": {},
   "outputs": [
    {
     "name": "stdout",
     "output_type": "stream",
     "text": [
      "root\n",
      " |-- ride_id: string (nullable = true)\n",
      " |-- rideable_type: string (nullable = true)\n",
      " |-- started_at: string (nullable = true)\n",
      " |-- ended_at: string (nullable = true)\n",
      " |-- start_station_name: string (nullable = true)\n",
      " |-- start_station_id: string (nullable = true)\n",
      " |-- end_station_name: string (nullable = true)\n",
      " |-- end_station_id: string (nullable = true)\n",
      " |-- start_lat: string (nullable = true)\n",
      " |-- start_lng: string (nullable = true)\n",
      " |-- end_lat: string (nullable = true)\n",
      " |-- end_lng: string (nullable = true)\n",
      " |-- member_casual: string (nullable = true)\n",
      "\n"
     ]
    }
   ],
   "source": [
    "df.printSchema()"
   ]
  },
  {
   "cell_type": "code",
   "execution_count": null,
   "id": "0a653eaf",
   "metadata": {},
   "outputs": [
    {
     "name": "stderr",
     "output_type": "stream",
     "text": [
      "[Stage 8:====================================================>     (9 + 1) / 10]\r"
     ]
    },
    {
     "name": "stdout",
     "output_type": "stream",
     "text": [
      "(4467334, 13)\n"
     ]
    },
    {
     "name": "stderr",
     "output_type": "stream",
     "text": [
      "                                                                                \r"
     ]
    }
   ],
   "source": [
    "print((df.count(), len(df.columns)))"
   ]
  }
 ],
 "metadata": {
  "kernelspec": {
   "display_name": "Python 3 (ipykernel)",
   "language": "python",
   "name": "python3"
  },
  "language_info": {
   "codemirror_mode": {
    "name": "ipython",
    "version": 3
   },
   "file_extension": ".py",
   "mimetype": "text/x-python",
   "name": "python",
   "nbconvert_exporter": "python",
   "pygments_lexer": "ipython3",
   "version": "3.10.12"
  }
 },
 "nbformat": 4,
 "nbformat_minor": 5
}
