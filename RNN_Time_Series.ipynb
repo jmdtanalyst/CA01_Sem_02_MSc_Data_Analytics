{
 "cells": [
  {
   "cell_type": "markdown",
   "id": "c06ac3df",
   "metadata": {},
   "source": [
    "# Import necessary libraries \n"
   ]
  },
  {
   "cell_type": "code",
   "execution_count": 1,
   "id": "6597ce75",
   "metadata": {},
   "outputs": [],
   "source": [
    "from pyspark.sql import SparkSession\n",
    "from pyspark.sql.functions import col, window, sum, lit\n",
    "import matplotlib.pyplot as plt\n",
    "import numpy as np\n",
    "import math\n",
    "import tensorflow as tf\n",
    "from tensorflow.keras.models import Sequential\n",
    "from tensorflow.keras.layers import LSTM, Dense\n",
    "from sklearn.preprocessing import MinMaxScaler\n",
    "from sklearn.metrics import mean_squared_error"
   ]
  },
  {
   "cell_type": "markdown",
   "id": "1d003485",
   "metadata": {},
   "source": [
    "# Create a spark Session"
   ]
  },
  {
   "cell_type": "code",
   "execution_count": 2,
   "id": "c4a6b581",
   "metadata": {},
   "outputs": [
    {
     "ename": "PySparkRuntimeError",
     "evalue": "[JAVA_GATEWAY_EXITED] Java gateway process exited before sending its port number.",
     "output_type": "error",
     "traceback": [
      "\u001b[1;31m---------------------------------------------------------------------------\u001b[0m",
      "\u001b[1;31mPySparkRuntimeError\u001b[0m                       Traceback (most recent call last)",
      "Cell \u001b[1;32mIn[2], line 4\u001b[0m\n\u001b[0;32m      1\u001b[0m \u001b[38;5;66;03m# Create a SparkSession\u001b[39;00m\n\u001b[0;32m      2\u001b[0m \u001b[38;5;66;03m#spark = SparkSession.builder.appName(\"CA01_Sem_02\").getOrCreate()\u001b[39;00m\n\u001b[1;32m----> 4\u001b[0m spark \u001b[38;5;241m=\u001b[39m SparkSession\u001b[38;5;241m.\u001b[39mbuilder\u001b[38;5;241m.\u001b[39mappName(\u001b[38;5;124m\"\u001b[39m\u001b[38;5;124mCA01_Sem_02\u001b[39m\u001b[38;5;124m\"\u001b[39m)\u001b[38;5;241m.\u001b[39mconfig(\u001b[38;5;124m\"\u001b[39m\u001b[38;5;124mspark.executor.memory\u001b[39m\u001b[38;5;124m\"\u001b[39m, \u001b[38;5;124m\"\u001b[39m\u001b[38;5;124m12g\u001b[39m\u001b[38;5;124m\"\u001b[39m)\u001b[38;5;241m.\u001b[39mgetOrCreate()\n\u001b[0;32m      6\u001b[0m spark\n",
      "File \u001b[1;32mc:\\Users\\josemario.Costa\\Anaconda\\Lib\\site-packages\\pyspark\\sql\\session.py:497\u001b[0m, in \u001b[0;36mSparkSession.Builder.getOrCreate\u001b[1;34m(self)\u001b[0m\n\u001b[0;32m    495\u001b[0m     sparkConf\u001b[38;5;241m.\u001b[39mset(key, value)\n\u001b[0;32m    496\u001b[0m \u001b[38;5;66;03m# This SparkContext may be an existing one.\u001b[39;00m\n\u001b[1;32m--> 497\u001b[0m sc \u001b[38;5;241m=\u001b[39m SparkContext\u001b[38;5;241m.\u001b[39mgetOrCreate(sparkConf)\n\u001b[0;32m    498\u001b[0m \u001b[38;5;66;03m# Do not update `SparkConf` for existing `SparkContext`, as it's shared\u001b[39;00m\n\u001b[0;32m    499\u001b[0m \u001b[38;5;66;03m# by all sessions.\u001b[39;00m\n\u001b[0;32m    500\u001b[0m session \u001b[38;5;241m=\u001b[39m SparkSession(sc, options\u001b[38;5;241m=\u001b[39m\u001b[38;5;28mself\u001b[39m\u001b[38;5;241m.\u001b[39m_options)\n",
      "File \u001b[1;32mc:\\Users\\josemario.Costa\\Anaconda\\Lib\\site-packages\\pyspark\\context.py:515\u001b[0m, in \u001b[0;36mSparkContext.getOrCreate\u001b[1;34m(cls, conf)\u001b[0m\n\u001b[0;32m    513\u001b[0m \u001b[38;5;28;01mwith\u001b[39;00m SparkContext\u001b[38;5;241m.\u001b[39m_lock:\n\u001b[0;32m    514\u001b[0m     \u001b[38;5;28;01mif\u001b[39;00m SparkContext\u001b[38;5;241m.\u001b[39m_active_spark_context \u001b[38;5;129;01mis\u001b[39;00m \u001b[38;5;28;01mNone\u001b[39;00m:\n\u001b[1;32m--> 515\u001b[0m         SparkContext(conf\u001b[38;5;241m=\u001b[39mconf \u001b[38;5;129;01mor\u001b[39;00m SparkConf())\n\u001b[0;32m    516\u001b[0m     \u001b[38;5;28;01massert\u001b[39;00m SparkContext\u001b[38;5;241m.\u001b[39m_active_spark_context \u001b[38;5;129;01mis\u001b[39;00m \u001b[38;5;129;01mnot\u001b[39;00m \u001b[38;5;28;01mNone\u001b[39;00m\n\u001b[0;32m    517\u001b[0m     \u001b[38;5;28;01mreturn\u001b[39;00m SparkContext\u001b[38;5;241m.\u001b[39m_active_spark_context\n",
      "File \u001b[1;32mc:\\Users\\josemario.Costa\\Anaconda\\Lib\\site-packages\\pyspark\\context.py:201\u001b[0m, in \u001b[0;36mSparkContext.__init__\u001b[1;34m(self, master, appName, sparkHome, pyFiles, environment, batchSize, serializer, conf, gateway, jsc, profiler_cls, udf_profiler_cls, memory_profiler_cls)\u001b[0m\n\u001b[0;32m    195\u001b[0m \u001b[38;5;28;01mif\u001b[39;00m gateway \u001b[38;5;129;01mis\u001b[39;00m \u001b[38;5;129;01mnot\u001b[39;00m \u001b[38;5;28;01mNone\u001b[39;00m \u001b[38;5;129;01mand\u001b[39;00m gateway\u001b[38;5;241m.\u001b[39mgateway_parameters\u001b[38;5;241m.\u001b[39mauth_token \u001b[38;5;129;01mis\u001b[39;00m \u001b[38;5;28;01mNone\u001b[39;00m:\n\u001b[0;32m    196\u001b[0m     \u001b[38;5;28;01mraise\u001b[39;00m \u001b[38;5;167;01mValueError\u001b[39;00m(\n\u001b[0;32m    197\u001b[0m         \u001b[38;5;124m\"\u001b[39m\u001b[38;5;124mYou are trying to pass an insecure Py4j gateway to Spark. This\u001b[39m\u001b[38;5;124m\"\u001b[39m\n\u001b[0;32m    198\u001b[0m         \u001b[38;5;124m\"\u001b[39m\u001b[38;5;124m is not allowed as it is a security risk.\u001b[39m\u001b[38;5;124m\"\u001b[39m\n\u001b[0;32m    199\u001b[0m     )\n\u001b[1;32m--> 201\u001b[0m SparkContext\u001b[38;5;241m.\u001b[39m_ensure_initialized(\u001b[38;5;28mself\u001b[39m, gateway\u001b[38;5;241m=\u001b[39mgateway, conf\u001b[38;5;241m=\u001b[39mconf)\n\u001b[0;32m    202\u001b[0m \u001b[38;5;28;01mtry\u001b[39;00m:\n\u001b[0;32m    203\u001b[0m     \u001b[38;5;28mself\u001b[39m\u001b[38;5;241m.\u001b[39m_do_init(\n\u001b[0;32m    204\u001b[0m         master,\n\u001b[0;32m    205\u001b[0m         appName,\n\u001b[1;32m   (...)\u001b[0m\n\u001b[0;32m    215\u001b[0m         memory_profiler_cls,\n\u001b[0;32m    216\u001b[0m     )\n",
      "File \u001b[1;32mc:\\Users\\josemario.Costa\\Anaconda\\Lib\\site-packages\\pyspark\\context.py:436\u001b[0m, in \u001b[0;36mSparkContext._ensure_initialized\u001b[1;34m(cls, instance, gateway, conf)\u001b[0m\n\u001b[0;32m    434\u001b[0m \u001b[38;5;28;01mwith\u001b[39;00m SparkContext\u001b[38;5;241m.\u001b[39m_lock:\n\u001b[0;32m    435\u001b[0m     \u001b[38;5;28;01mif\u001b[39;00m \u001b[38;5;129;01mnot\u001b[39;00m SparkContext\u001b[38;5;241m.\u001b[39m_gateway:\n\u001b[1;32m--> 436\u001b[0m         SparkContext\u001b[38;5;241m.\u001b[39m_gateway \u001b[38;5;241m=\u001b[39m gateway \u001b[38;5;129;01mor\u001b[39;00m launch_gateway(conf)\n\u001b[0;32m    437\u001b[0m         SparkContext\u001b[38;5;241m.\u001b[39m_jvm \u001b[38;5;241m=\u001b[39m SparkContext\u001b[38;5;241m.\u001b[39m_gateway\u001b[38;5;241m.\u001b[39mjvm\n\u001b[0;32m    439\u001b[0m     \u001b[38;5;28;01mif\u001b[39;00m instance:\n",
      "File \u001b[1;32mc:\\Users\\josemario.Costa\\Anaconda\\Lib\\site-packages\\pyspark\\java_gateway.py:107\u001b[0m, in \u001b[0;36mlaunch_gateway\u001b[1;34m(conf, popen_kwargs)\u001b[0m\n\u001b[0;32m    104\u001b[0m     time\u001b[38;5;241m.\u001b[39msleep(\u001b[38;5;241m0.1\u001b[39m)\n\u001b[0;32m    106\u001b[0m \u001b[38;5;28;01mif\u001b[39;00m \u001b[38;5;129;01mnot\u001b[39;00m os\u001b[38;5;241m.\u001b[39mpath\u001b[38;5;241m.\u001b[39misfile(conn_info_file):\n\u001b[1;32m--> 107\u001b[0m     \u001b[38;5;28;01mraise\u001b[39;00m PySparkRuntimeError(\n\u001b[0;32m    108\u001b[0m         error_class\u001b[38;5;241m=\u001b[39m\u001b[38;5;124m\"\u001b[39m\u001b[38;5;124mJAVA_GATEWAY_EXITED\u001b[39m\u001b[38;5;124m\"\u001b[39m,\n\u001b[0;32m    109\u001b[0m         message_parameters\u001b[38;5;241m=\u001b[39m{},\n\u001b[0;32m    110\u001b[0m     )\n\u001b[0;32m    112\u001b[0m \u001b[38;5;28;01mwith\u001b[39;00m \u001b[38;5;28mopen\u001b[39m(conn_info_file, \u001b[38;5;124m\"\u001b[39m\u001b[38;5;124mrb\u001b[39m\u001b[38;5;124m\"\u001b[39m) \u001b[38;5;28;01mas\u001b[39;00m info:\n\u001b[0;32m    113\u001b[0m     gateway_port \u001b[38;5;241m=\u001b[39m read_int(info)\n",
      "\u001b[1;31mPySparkRuntimeError\u001b[0m: [JAVA_GATEWAY_EXITED] Java gateway process exited before sending its port number."
     ]
    }
   ],
   "source": [
    "# Create a SparkSession\n",
    "#spark = SparkSession.builder.appName(\"CA01_Sem_02\").getOrCreate()\n",
    "\n",
    "spark = SparkSession.builder.appName(\"CA01_Sem_02\").config(\"spark.executor.memory\", \"12g\").getOrCreate()\n",
    "\n",
    "spark"
   ]
  },
  {
   "cell_type": "markdown",
   "id": "f05bd3d2",
   "metadata": {},
   "source": [
    "### Data_Ingestion function  - Load localy and save on Hadoop\n",
    " To leverage the use of hadoop,  this module was created to read the csv files into a pyspark dataframe and save on hadoop hdfs system"
   ]
  },
  {
   "cell_type": "code",
   "execution_count": 10,
   "id": "28b7c95d",
   "metadata": {},
   "outputs": [],
   "source": [
    "\n",
    "# data_ingestion function: Loads all CSV files in a directory using PySpark and saves them to a specified output path on HDFS.\n",
    "# Args: \n",
    "    # path: Path to the directory containing CSV files  \n",
    "    # hd_path: Hadoop path on HDFS to save the processed files\n",
    "\n",
    "def data_ingestion( path, hd_path):\n",
    "    \n",
    "    try:\n",
    "        # Read all files in the directory matching the CSV extension (*.csv)\n",
    "        df = spark.read.csv(path, header=True, inferSchema = True)\n",
    "\n",
    "        # Save the DataFrame to Hadoop server - HDFS\n",
    "        df.write.mode(\"overwrite\").csv(hd_path, header=True)\n",
    "        print('Data Ingestion Completed')\n",
    "\n",
    "    except Exception as e:\n",
    "        print(\"An error occurred:\", e)\n",
    "    \n",
    "    \n",
    "    "
   ]
  },
  {
   "cell_type": "markdown",
   "id": "185609a8",
   "metadata": {},
   "source": [
    "# Running the data_ingestion function"
   ]
  },
  {
   "cell_type": "code",
   "execution_count": 14,
   "id": "c20a8ede",
   "metadata": {},
   "outputs": [
    {
     "name": "stdout",
     "output_type": "stream",
     "text": [
      "An error occurred: An error occurred while calling o119.csv.\n",
      ": org.apache.hadoop.security.AccessControlException: Permission denied: user=JoseMario.Costa, access=WRITE, inode=\"/user1\":hduser:supergroup:drwxr-xr-x\n",
      "\tat org.apache.hadoop.hdfs.server.namenode.FSPermissionChecker.check(FSPermissionChecker.java:506)\n",
      "\tat org.apache.hadoop.hdfs.server.namenode.FSPermissionChecker.checkPermission(FSPermissionChecker.java:346)\n",
      "\tat org.apache.hadoop.hdfs.server.namenode.FSPermissionChecker.checkPermissionWithContext(FSPermissionChecker.java:370)\n",
      "\tat org.apache.hadoop.hdfs.server.namenode.FSPermissionChecker.checkPermission(FSPermissionChecker.java:240)\n",
      "\tat org.apache.hadoop.hdfs.server.namenode.FSDirectory.checkPermission(FSDirectory.java:1943)\n",
      "\tat org.apache.hadoop.hdfs.server.namenode.FSDirectory.checkPermission(FSDirectory.java:1927)\n",
      "\tat org.apache.hadoop.hdfs.server.namenode.FSDirectory.checkAncestorAccess(FSDirectory.java:1886)\n",
      "\tat org.apache.hadoop.hdfs.server.namenode.FSDirMkdirOp.mkdirs(FSDirMkdirOp.java:60)\n",
      "\tat org.apache.hadoop.hdfs.server.namenode.FSNamesystem.mkdirs(FSNamesystem.java:3441)\n",
      "\tat org.apache.hadoop.hdfs.server.namenode.NameNodeRpcServer.mkdirs(NameNodeRpcServer.java:1167)\n",
      "\tat org.apache.hadoop.hdfs.protocolPB.ClientNamenodeProtocolServerSideTranslatorPB.mkdirs(ClientNamenodeProtocolServerSideTranslatorPB.java:742)\n",
      "\tat org.apache.hadoop.hdfs.protocol.proto.ClientNamenodeProtocolProtos$ClientNamenodeProtocol$2.callBlockingMethod(ClientNamenodeProtocolProtos.java)\n",
      "\tat org.apache.hadoop.ipc.ProtobufRpcEngine2$Server$ProtoBufRpcInvoker.call(ProtobufRpcEngine2.java:621)\n",
      "\tat org.apache.hadoop.ipc.ProtobufRpcEngine2$Server$ProtoBufRpcInvoker.call(ProtobufRpcEngine2.java:589)\n",
      "\tat org.apache.hadoop.ipc.ProtobufRpcEngine2$Server$ProtoBufRpcInvoker.call(ProtobufRpcEngine2.java:573)\n",
      "\tat org.apache.hadoop.ipc.RPC$Server.call(RPC.java:1227)\n",
      "\tat org.apache.hadoop.ipc.Server$RpcCall.run(Server.java:1094)\n",
      "\tat org.apache.hadoop.ipc.Server$RpcCall.run(Server.java:1017)\n",
      "\tat java.security.AccessController.doPrivileged(Native Method)\n",
      "\tat javax.security.auth.Subject.doAs(Subject.java:422)\n",
      "\tat org.apache.hadoop.security.UserGroupInformation.doAs(UserGroupInformation.java:1899)\n",
      "\tat org.apache.hadoop.ipc.Server$Handler.run(Server.java:3048)\n",
      "\n",
      "\tat sun.reflect.NativeConstructorAccessorImpl.newInstance0(Native Method)\n",
      "\tat sun.reflect.NativeConstructorAccessorImpl.newInstance(Unknown Source)\n",
      "\tat sun.reflect.DelegatingConstructorAccessorImpl.newInstance(Unknown Source)\n",
      "\tat java.lang.reflect.Constructor.newInstance(Unknown Source)\n",
      "\tat org.apache.hadoop.ipc.RemoteException.instantiateException(RemoteException.java:121)\n",
      "\tat org.apache.hadoop.ipc.RemoteException.unwrapRemoteException(RemoteException.java:88)\n",
      "\tat org.apache.hadoop.hdfs.DFSClient.primitiveMkdir(DFSClient.java:2509)\n",
      "\tat org.apache.hadoop.hdfs.DFSClient.mkdirs(DFSClient.java:2483)\n",
      "\tat org.apache.hadoop.hdfs.DistributedFileSystem$27.doCall(DistributedFileSystem.java:1485)\n",
      "\tat org.apache.hadoop.hdfs.DistributedFileSystem$27.doCall(DistributedFileSystem.java:1482)\n",
      "\tat org.apache.hadoop.fs.FileSystemLinkResolver.resolve(FileSystemLinkResolver.java:81)\n",
      "\tat org.apache.hadoop.hdfs.DistributedFileSystem.mkdirsInternal(DistributedFileSystem.java:1499)\n",
      "\tat org.apache.hadoop.hdfs.DistributedFileSystem.mkdirs(DistributedFileSystem.java:1474)\n",
      "\tat org.apache.hadoop.fs.FileSystem.mkdirs(FileSystem.java:2388)\n",
      "\tat org.apache.hadoop.mapreduce.lib.output.FileOutputCommitter.setupJob(FileOutputCommitter.java:356)\n",
      "\tat org.apache.spark.internal.io.HadoopMapReduceCommitProtocol.setupJob(HadoopMapReduceCommitProtocol.scala:188)\n",
      "\tat org.apache.spark.sql.execution.datasources.FileFormatWriter$.writeAndCommit(FileFormatWriter.scala:269)\n",
      "\tat org.apache.spark.sql.execution.datasources.FileFormatWriter$.executeWrite(FileFormatWriter.scala:304)\n",
      "\tat org.apache.spark.sql.execution.datasources.FileFormatWriter$.write(FileFormatWriter.scala:190)\n",
      "\tat org.apache.spark.sql.execution.datasources.InsertIntoHadoopFsRelationCommand.run(InsertIntoHadoopFsRelationCommand.scala:190)\n",
      "\tat org.apache.spark.sql.execution.command.DataWritingCommandExec.sideEffectResult$lzycompute(commands.scala:113)\n",
      "\tat org.apache.spark.sql.execution.command.DataWritingCommandExec.sideEffectResult(commands.scala:111)\n",
      "\tat org.apache.spark.sql.execution.command.DataWritingCommandExec.executeCollect(commands.scala:125)\n",
      "\tat org.apache.spark.sql.execution.QueryExecution$$anonfun$eagerlyExecuteCommands$1.$anonfun$applyOrElse$1(QueryExecution.scala:107)\n",
      "\tat org.apache.spark.sql.execution.SQLExecution$.$anonfun$withNewExecutionId$6(SQLExecution.scala:125)\n",
      "\tat org.apache.spark.sql.execution.SQLExecution$.withSQLConfPropagated(SQLExecution.scala:201)\n",
      "\tat org.apache.spark.sql.execution.SQLExecution$.$anonfun$withNewExecutionId$1(SQLExecution.scala:108)\n",
      "\tat org.apache.spark.sql.SparkSession.withActive(SparkSession.scala:900)\n",
      "\tat org.apache.spark.sql.execution.SQLExecution$.withNewExecutionId(SQLExecution.scala:66)\n",
      "\tat org.apache.spark.sql.execution.QueryExecution$$anonfun$eagerlyExecuteCommands$1.applyOrElse(QueryExecution.scala:107)\n",
      "\tat org.apache.spark.sql.execution.QueryExecution$$anonfun$eagerlyExecuteCommands$1.applyOrElse(QueryExecution.scala:98)\n",
      "\tat org.apache.spark.sql.catalyst.trees.TreeNode.$anonfun$transformDownWithPruning$1(TreeNode.scala:461)\n",
      "\tat org.apache.spark.sql.catalyst.trees.CurrentOrigin$.withOrigin(origin.scala:76)\n",
      "\tat org.apache.spark.sql.catalyst.trees.TreeNode.transformDownWithPruning(TreeNode.scala:461)\n",
      "\tat org.apache.spark.sql.catalyst.plans.logical.LogicalPlan.org$apache$spark$sql$catalyst$plans$logical$AnalysisHelper$$super$transformDownWithPruning(LogicalPlan.scala:32)\n",
      "\tat org.apache.spark.sql.catalyst.plans.logical.AnalysisHelper.transformDownWithPruning(AnalysisHelper.scala:267)\n",
      "\tat org.apache.spark.sql.catalyst.plans.logical.AnalysisHelper.transformDownWithPruning$(AnalysisHelper.scala:263)\n",
      "\tat org.apache.spark.sql.catalyst.plans.logical.LogicalPlan.transformDownWithPruning(LogicalPlan.scala:32)\n",
      "\tat org.apache.spark.sql.catalyst.plans.logical.LogicalPlan.transformDownWithPruning(LogicalPlan.scala:32)\n",
      "\tat org.apache.spark.sql.catalyst.trees.TreeNode.transformDown(TreeNode.scala:437)\n",
      "\tat org.apache.spark.sql.execution.QueryExecution.eagerlyExecuteCommands(QueryExecution.scala:98)\n",
      "\tat org.apache.spark.sql.execution.QueryExecution.commandExecuted$lzycompute(QueryExecution.scala:85)\n",
      "\tat org.apache.spark.sql.execution.QueryExecution.commandExecuted(QueryExecution.scala:83)\n",
      "\tat org.apache.spark.sql.execution.QueryExecution.assertCommandExecuted(QueryExecution.scala:142)\n",
      "\tat org.apache.spark.sql.DataFrameWriter.runCommand(DataFrameWriter.scala:859)\n",
      "\tat org.apache.spark.sql.DataFrameWriter.saveToV1Source(DataFrameWriter.scala:388)\n",
      "\tat org.apache.spark.sql.DataFrameWriter.saveInternal(DataFrameWriter.scala:361)\n",
      "\tat org.apache.spark.sql.DataFrameWriter.save(DataFrameWriter.scala:240)\n",
      "\tat org.apache.spark.sql.DataFrameWriter.csv(DataFrameWriter.scala:850)\n",
      "\tat sun.reflect.NativeMethodAccessorImpl.invoke0(Native Method)\n",
      "\tat sun.reflect.NativeMethodAccessorImpl.invoke(Unknown Source)\n",
      "\tat sun.reflect.DelegatingMethodAccessorImpl.invoke(Unknown Source)\n",
      "\tat java.lang.reflect.Method.invoke(Unknown Source)\n",
      "\tat py4j.reflection.MethodInvoker.invoke(MethodInvoker.java:244)\n",
      "\tat py4j.reflection.ReflectionEngine.invoke(ReflectionEngine.java:374)\n",
      "\tat py4j.Gateway.invoke(Gateway.java:282)\n",
      "\tat py4j.commands.AbstractCommand.invokeMethod(AbstractCommand.java:132)\n",
      "\tat py4j.commands.CallCommand.execute(CallCommand.java:79)\n",
      "\tat py4j.ClientServerConnection.waitForCommands(ClientServerConnection.java:182)\n",
      "\tat py4j.ClientServerConnection.run(ClientServerConnection.java:106)\n",
      "\tat java.lang.Thread.run(Unknown Source)\n",
      "Caused by: org.apache.hadoop.ipc.RemoteException(org.apache.hadoop.security.AccessControlException): Permission denied: user=JoseMario.Costa, access=WRITE, inode=\"/user1\":hduser:supergroup:drwxr-xr-x\n",
      "\tat org.apache.hadoop.hdfs.server.namenode.FSPermissionChecker.check(FSPermissionChecker.java:506)\n",
      "\tat org.apache.hadoop.hdfs.server.namenode.FSPermissionChecker.checkPermission(FSPermissionChecker.java:346)\n",
      "\tat org.apache.hadoop.hdfs.server.namenode.FSPermissionChecker.checkPermissionWithContext(FSPermissionChecker.java:370)\n",
      "\tat org.apache.hadoop.hdfs.server.namenode.FSPermissionChecker.checkPermission(FSPermissionChecker.java:240)\n",
      "\tat org.apache.hadoop.hdfs.server.namenode.FSDirectory.checkPermission(FSDirectory.java:1943)\n",
      "\tat org.apache.hadoop.hdfs.server.namenode.FSDirectory.checkPermission(FSDirectory.java:1927)\n",
      "\tat org.apache.hadoop.hdfs.server.namenode.FSDirectory.checkAncestorAccess(FSDirectory.java:1886)\n",
      "\tat org.apache.hadoop.hdfs.server.namenode.FSDirMkdirOp.mkdirs(FSDirMkdirOp.java:60)\n",
      "\tat org.apache.hadoop.hdfs.server.namenode.FSNamesystem.mkdirs(FSNamesystem.java:3441)\n",
      "\tat org.apache.hadoop.hdfs.server.namenode.NameNodeRpcServer.mkdirs(NameNodeRpcServer.java:1167)\n",
      "\tat org.apache.hadoop.hdfs.protocolPB.ClientNamenodeProtocolServerSideTranslatorPB.mkdirs(ClientNamenodeProtocolServerSideTranslatorPB.java:742)\n",
      "\tat org.apache.hadoop.hdfs.protocol.proto.ClientNamenodeProtocolProtos$ClientNamenodeProtocol$2.callBlockingMethod(ClientNamenodeProtocolProtos.java)\n",
      "\tat org.apache.hadoop.ipc.ProtobufRpcEngine2$Server$ProtoBufRpcInvoker.call(ProtobufRpcEngine2.java:621)\n",
      "\tat org.apache.hadoop.ipc.ProtobufRpcEngine2$Server$ProtoBufRpcInvoker.call(ProtobufRpcEngine2.java:589)\n",
      "\tat org.apache.hadoop.ipc.ProtobufRpcEngine2$Server$ProtoBufRpcInvoker.call(ProtobufRpcEngine2.java:573)\n",
      "\tat org.apache.hadoop.ipc.RPC$Server.call(RPC.java:1227)\n",
      "\tat org.apache.hadoop.ipc.Server$RpcCall.run(Server.java:1094)\n",
      "\tat org.apache.hadoop.ipc.Server$RpcCall.run(Server.java:1017)\n",
      "\tat java.security.AccessController.doPrivileged(Native Method)\n",
      "\tat javax.security.auth.Subject.doAs(Subject.java:422)\n",
      "\tat org.apache.hadoop.security.UserGroupInformation.doAs(UserGroupInformation.java:1899)\n",
      "\tat org.apache.hadoop.ipc.Server$Handler.run(Server.java:3048)\n",
      "\n",
      "\tat org.apache.hadoop.ipc.Client.getRpcResponse(Client.java:1612)\n",
      "\tat org.apache.hadoop.ipc.Client.call(Client.java:1558)\n",
      "\tat org.apache.hadoop.ipc.Client.call(Client.java:1455)\n",
      "\tat org.apache.hadoop.ipc.ProtobufRpcEngine2$Invoker.invoke(ProtobufRpcEngine2.java:242)\n",
      "\tat org.apache.hadoop.ipc.ProtobufRpcEngine2$Invoker.invoke(ProtobufRpcEngine2.java:129)\n",
      "\tat com.sun.proxy.$Proxy39.mkdirs(Unknown Source)\n",
      "\tat org.apache.hadoop.hdfs.protocolPB.ClientNamenodeProtocolTranslatorPB.mkdirs(ClientNamenodeProtocolTranslatorPB.java:674)\n",
      "\tat sun.reflect.NativeMethodAccessorImpl.invoke0(Native Method)\n",
      "\tat sun.reflect.NativeMethodAccessorImpl.invoke(Unknown Source)\n",
      "\tat sun.reflect.DelegatingMethodAccessorImpl.invoke(Unknown Source)\n",
      "\tat java.lang.reflect.Method.invoke(Unknown Source)\n",
      "\tat org.apache.hadoop.io.retry.RetryInvocationHandler.invokeMethod(RetryInvocationHandler.java:422)\n",
      "\tat org.apache.hadoop.io.retry.RetryInvocationHandler$Call.invokeMethod(RetryInvocationHandler.java:165)\n",
      "\tat org.apache.hadoop.io.retry.RetryInvocationHandler$Call.invoke(RetryInvocationHandler.java:157)\n",
      "\tat org.apache.hadoop.io.retry.RetryInvocationHandler$Call.invokeOnce(RetryInvocationHandler.java:95)\n",
      "\tat org.apache.hadoop.io.retry.RetryInvocationHandler.invoke(RetryInvocationHandler.java:359)\n",
      "\tat com.sun.proxy.$Proxy40.mkdirs(Unknown Source)\n",
      "\tat org.apache.hadoop.hdfs.DFSClient.primitiveMkdir(DFSClient.java:2507)\n",
      "\t... 54 more\n",
      "\n"
     ]
    }
   ],
   "source": [
    "\n",
    "# path to directory where the files are\n",
    "path = \"202301-capitalbikeshare-tripdata.csv\"\n",
    "# path where the files should be saved on hadoop\n",
    "hd_path = \"hdfs://192.168.56.101:9000/user1/teste_local/\"\n",
    "\n",
    "\n",
    "\n",
    "df = spark.read.csv(path, header=True, inferSchema = True)\n",
    "\n",
    "# Call the processing function\n",
    "data_ingestion(path, hd_path)\n"
   ]
  },
  {
   "cell_type": "markdown",
   "id": "a3efcce0",
   "metadata": {},
   "source": [
    "# Load data from hadoop"
   ]
  },
  {
   "cell_type": "code",
   "execution_count": 2,
   "id": "adebf827",
   "metadata": {},
   "outputs": [
    {
     "name": "stderr",
     "output_type": "stream",
     "text": [
      "Python was not found; run without arguments to install from the Microsoft Store, or disable this shortcut from Settings > Manage App Execution Aliases.\n",
      "The system cannot find the path specified.\n",
      "The system cannot find the path specified.\n"
     ]
    }
   ],
   "source": [
    "!pyspark"
   ]
  },
  {
   "cell_type": "code",
   "execution_count": 5,
   "id": "3829c623",
   "metadata": {},
   "outputs": [
    {
     "name": "stdout",
     "output_type": "stream",
     "text": [
      "An error occurred: An error occurred while calling o32.csv.\n",
      ": org.apache.spark.SparkException: Job aborted due to stage failure: Task 0 in stage 0.0 failed 1 times, most recent failure: Lost task 0.0 in stage 0.0 (TID 0) (IE-DUB1-LAP-018.brownelogistics.local executor driver): org.apache.spark.SparkException: Encountered error while reading file hdfs://192.168.56.101:9000/user1/CarPrice_Assignment.csv. Details:\n",
      "\tat org.apache.spark.sql.errors.QueryExecutionErrors$.cannotReadFilesError(QueryExecutionErrors.scala:863)\n",
      "\tat org.apache.spark.sql.execution.datasources.FileScanRDD$$anon$1.nextIterator(FileScanRDD.scala:293)\n",
      "\tat org.apache.spark.sql.execution.datasources.FileScanRDD$$anon$1.hasNext(FileScanRDD.scala:129)\n",
      "\tat scala.collection.Iterator$$anon$10.hasNext(Iterator.scala:460)\n",
      "\tat org.apache.spark.sql.catalyst.expressions.GeneratedClass$GeneratedIteratorForCodegenStage1.processNext(Unknown Source)\n",
      "\tat org.apache.spark.sql.execution.BufferedRowIterator.hasNext(BufferedRowIterator.java:43)\n",
      "\tat org.apache.spark.sql.execution.WholeStageCodegenEvaluatorFactory$WholeStageCodegenPartitionEvaluator$$anon$1.hasNext(WholeStageCodegenEvaluatorFactory.scala:43)\n",
      "\tat org.apache.spark.sql.execution.SparkPlan.$anonfun$getByteArrayRdd$1(SparkPlan.scala:388)\n",
      "\tat org.apache.spark.rdd.RDD.$anonfun$mapPartitionsInternal$2(RDD.scala:893)\n",
      "\tat org.apache.spark.rdd.RDD.$anonfun$mapPartitionsInternal$2$adapted(RDD.scala:893)\n",
      "\tat org.apache.spark.rdd.MapPartitionsRDD.compute(MapPartitionsRDD.scala:52)\n",
      "\tat org.apache.spark.rdd.RDD.computeOrReadCheckpoint(RDD.scala:367)\n",
      "\tat org.apache.spark.rdd.RDD.iterator(RDD.scala:331)\n",
      "\tat org.apache.spark.scheduler.ResultTask.runTask(ResultTask.scala:93)\n",
      "\tat org.apache.spark.TaskContext.runTaskWithListeners(TaskContext.scala:166)\n",
      "\tat org.apache.spark.scheduler.Task.run(Task.scala:141)\n",
      "\tat org.apache.spark.executor.Executor$TaskRunner.$anonfun$run$4(Executor.scala:620)\n",
      "\tat org.apache.spark.util.SparkErrorUtils.tryWithSafeFinally(SparkErrorUtils.scala:64)\n",
      "\tat org.apache.spark.util.SparkErrorUtils.tryWithSafeFinally$(SparkErrorUtils.scala:61)\n",
      "\tat org.apache.spark.util.Utils$.tryWithSafeFinally(Utils.scala:94)\n",
      "\tat org.apache.spark.executor.Executor$TaskRunner.run(Executor.scala:623)\n",
      "\tat java.util.concurrent.ThreadPoolExecutor.runWorker(Unknown Source)\n",
      "\tat java.util.concurrent.ThreadPoolExecutor$Worker.run(Unknown Source)\n",
      "\tat java.lang.Thread.run(Unknown Source)\n",
      "Caused by: org.apache.hadoop.hdfs.BlockMissingException: Could not obtain block: BP-1050805-127.0.1.1-1706654335242:blk_1073741841_1017 file=/user1/CarPrice_Assignment.csv No live nodes contain current block Block locations: DatanodeInfoWithStorage[127.0.0.1:9866,DS-fe793909-b773-4118-8753-ccd6d4f9b0d5,DISK] Dead nodes:  DatanodeInfoWithStorage[127.0.0.1:9866,DS-fe793909-b773-4118-8753-ccd6d4f9b0d5,DISK]\n",
      "\tat org.apache.hadoop.hdfs.DFSInputStream.refetchLocations(DFSInputStream.java:1007)\n",
      "\tat org.apache.hadoop.hdfs.DFSInputStream.chooseDataNode(DFSInputStream.java:990)\n",
      "\tat org.apache.hadoop.hdfs.DFSInputStream.chooseDataNode(DFSInputStream.java:969)\n",
      "\tat org.apache.hadoop.hdfs.DFSInputStream.blockSeekTo(DFSInputStream.java:677)\n",
      "\tat org.apache.hadoop.hdfs.DFSInputStream.readWithStrategy(DFSInputStream.java:884)\n",
      "\tat org.apache.hadoop.hdfs.DFSInputStream.read(DFSInputStream.java:957)\n",
      "\tat java.io.DataInputStream.read(Unknown Source)\n",
      "\tat org.apache.hadoop.mapreduce.lib.input.UncompressedSplitLineReader.fillBuffer(UncompressedSplitLineReader.java:62)\n",
      "\tat org.apache.hadoop.util.LineReader.readDefaultLine(LineReader.java:227)\n",
      "\tat org.apache.hadoop.util.LineReader.readLine(LineReader.java:185)\n",
      "\tat org.apache.hadoop.mapreduce.lib.input.UncompressedSplitLineReader.readLine(UncompressedSplitLineReader.java:94)\n",
      "\tat org.apache.hadoop.mapreduce.lib.input.LineRecordReader.skipUtfByteOrderMark(LineRecordReader.java:158)\n",
      "\tat org.apache.hadoop.mapreduce.lib.input.LineRecordReader.nextKeyValue(LineRecordReader.java:198)\n",
      "\tat org.apache.spark.sql.execution.datasources.RecordReaderIterator.hasNext(RecordReaderIterator.scala:39)\n",
      "\tat org.apache.spark.sql.execution.datasources.HadoopFileLinesReader.hasNext(HadoopFileLinesReader.scala:67)\n",
      "\tat scala.collection.Iterator$$anon$10.hasNext(Iterator.scala:460)\n",
      "\tat scala.collection.Iterator$$anon$10.hasNext(Iterator.scala:460)\n",
      "\tat org.apache.spark.sql.execution.datasources.FileScanRDD$$anon$1.hasNext(FileScanRDD.scala:129)\n",
      "\tat org.apache.spark.sql.execution.datasources.FileScanRDD$$anon$1.nextIterator(FileScanRDD.scala:283)\n",
      "\t... 22 more\n",
      "\n",
      "Driver stacktrace:\n",
      "\tat org.apache.spark.scheduler.DAGScheduler.failJobAndIndependentStages(DAGScheduler.scala:2856)\n",
      "\tat org.apache.spark.scheduler.DAGScheduler.$anonfun$abortStage$2(DAGScheduler.scala:2792)\n",
      "\tat org.apache.spark.scheduler.DAGScheduler.$anonfun$abortStage$2$adapted(DAGScheduler.scala:2791)\n",
      "\tat scala.collection.mutable.ResizableArray.foreach(ResizableArray.scala:62)\n",
      "\tat scala.collection.mutable.ResizableArray.foreach$(ResizableArray.scala:55)\n",
      "\tat scala.collection.mutable.ArrayBuffer.foreach(ArrayBuffer.scala:49)\n",
      "\tat org.apache.spark.scheduler.DAGScheduler.abortStage(DAGScheduler.scala:2791)\n",
      "\tat org.apache.spark.scheduler.DAGScheduler.$anonfun$handleTaskSetFailed$1(DAGScheduler.scala:1247)\n",
      "\tat org.apache.spark.scheduler.DAGScheduler.$anonfun$handleTaskSetFailed$1$adapted(DAGScheduler.scala:1247)\n",
      "\tat scala.Option.foreach(Option.scala:407)\n",
      "\tat org.apache.spark.scheduler.DAGScheduler.handleTaskSetFailed(DAGScheduler.scala:1247)\n",
      "\tat org.apache.spark.scheduler.DAGSchedulerEventProcessLoop.doOnReceive(DAGScheduler.scala:3060)\n",
      "\tat org.apache.spark.scheduler.DAGSchedulerEventProcessLoop.onReceive(DAGScheduler.scala:2994)\n",
      "\tat org.apache.spark.scheduler.DAGSchedulerEventProcessLoop.onReceive(DAGScheduler.scala:2983)\n",
      "\tat org.apache.spark.util.EventLoop$$anon$1.run(EventLoop.scala:49)\n",
      "\tat org.apache.spark.scheduler.DAGScheduler.runJob(DAGScheduler.scala:989)\n",
      "\tat org.apache.spark.SparkContext.runJob(SparkContext.scala:2398)\n",
      "\tat org.apache.spark.SparkContext.runJob(SparkContext.scala:2419)\n",
      "\tat org.apache.spark.SparkContext.runJob(SparkContext.scala:2438)\n",
      "\tat org.apache.spark.sql.execution.SparkPlan.executeTake(SparkPlan.scala:530)\n",
      "\tat org.apache.spark.sql.execution.SparkPlan.executeTake(SparkPlan.scala:483)\n",
      "\tat org.apache.spark.sql.execution.CollectLimitExec.executeCollect(limit.scala:61)\n",
      "\tat org.apache.spark.sql.Dataset.collectFromPlan(Dataset.scala:4332)\n",
      "\tat org.apache.spark.sql.Dataset.$anonfun$head$1(Dataset.scala:3314)\n",
      "\tat org.apache.spark.sql.Dataset.$anonfun$withAction$2(Dataset.scala:4322)\n",
      "\tat org.apache.spark.sql.execution.QueryExecution$.withInternalError(QueryExecution.scala:546)\n",
      "\tat org.apache.spark.sql.Dataset.$anonfun$withAction$1(Dataset.scala:4320)\n",
      "\tat org.apache.spark.sql.execution.SQLExecution$.$anonfun$withNewExecutionId$6(SQLExecution.scala:125)\n",
      "\tat org.apache.spark.sql.execution.SQLExecution$.withSQLConfPropagated(SQLExecution.scala:201)\n",
      "\tat org.apache.spark.sql.execution.SQLExecution$.$anonfun$withNewExecutionId$1(SQLExecution.scala:108)\n",
      "\tat org.apache.spark.sql.SparkSession.withActive(SparkSession.scala:900)\n",
      "\tat org.apache.spark.sql.execution.SQLExecution$.withNewExecutionId(SQLExecution.scala:66)\n",
      "\tat org.apache.spark.sql.Dataset.withAction(Dataset.scala:4320)\n",
      "\tat org.apache.spark.sql.Dataset.head(Dataset.scala:3314)\n",
      "\tat org.apache.spark.sql.Dataset.take(Dataset.scala:3537)\n",
      "\tat org.apache.spark.sql.execution.datasources.csv.TextInputCSVDataSource$.infer(CSVDataSource.scala:111)\n",
      "\tat org.apache.spark.sql.execution.datasources.csv.CSVDataSource.inferSchema(CSVDataSource.scala:64)\n",
      "\tat org.apache.spark.sql.execution.datasources.csv.CSVFileFormat.inferSchema(CSVFileFormat.scala:62)\n",
      "\tat org.apache.spark.sql.execution.datasources.DataSource.$anonfun$getOrInferFileFormatSchema$11(DataSource.scala:208)\n",
      "\tat scala.Option.orElse(Option.scala:447)\n",
      "\tat org.apache.spark.sql.execution.datasources.DataSource.getOrInferFileFormatSchema(DataSource.scala:205)\n",
      "\tat org.apache.spark.sql.execution.datasources.DataSource.resolveRelation(DataSource.scala:407)\n",
      "\tat org.apache.spark.sql.DataFrameReader.loadV1Source(DataFrameReader.scala:229)\n",
      "\tat org.apache.spark.sql.DataFrameReader.$anonfun$load$2(DataFrameReader.scala:211)\n",
      "\tat scala.Option.getOrElse(Option.scala:189)\n",
      "\tat org.apache.spark.sql.DataFrameReader.load(DataFrameReader.scala:211)\n",
      "\tat org.apache.spark.sql.DataFrameReader.csv(DataFrameReader.scala:538)\n",
      "\tat sun.reflect.NativeMethodAccessorImpl.invoke0(Native Method)\n",
      "\tat sun.reflect.NativeMethodAccessorImpl.invoke(Unknown Source)\n",
      "\tat sun.reflect.DelegatingMethodAccessorImpl.invoke(Unknown Source)\n",
      "\tat java.lang.reflect.Method.invoke(Unknown Source)\n",
      "\tat py4j.reflection.MethodInvoker.invoke(MethodInvoker.java:244)\n",
      "\tat py4j.reflection.ReflectionEngine.invoke(ReflectionEngine.java:374)\n",
      "\tat py4j.Gateway.invoke(Gateway.java:282)\n",
      "\tat py4j.commands.AbstractCommand.invokeMethod(AbstractCommand.java:132)\n",
      "\tat py4j.commands.CallCommand.execute(CallCommand.java:79)\n",
      "\tat py4j.ClientServerConnection.waitForCommands(ClientServerConnection.java:182)\n",
      "\tat py4j.ClientServerConnection.run(ClientServerConnection.java:106)\n",
      "\tat java.lang.Thread.run(Unknown Source)\n",
      "Caused by: org.apache.spark.SparkException: Encountered error while reading file hdfs://192.168.56.101:9000/user1/CarPrice_Assignment.csv. Details:\n",
      "\tat org.apache.spark.sql.errors.QueryExecutionErrors$.cannotReadFilesError(QueryExecutionErrors.scala:863)\n",
      "\tat org.apache.spark.sql.execution.datasources.FileScanRDD$$anon$1.nextIterator(FileScanRDD.scala:293)\n",
      "\tat org.apache.spark.sql.execution.datasources.FileScanRDD$$anon$1.hasNext(FileScanRDD.scala:129)\n",
      "\tat scala.collection.Iterator$$anon$10.hasNext(Iterator.scala:460)\n",
      "\tat org.apache.spark.sql.catalyst.expressions.GeneratedClass$GeneratedIteratorForCodegenStage1.processNext(Unknown Source)\n",
      "\tat org.apache.spark.sql.execution.BufferedRowIterator.hasNext(BufferedRowIterator.java:43)\n",
      "\tat org.apache.spark.sql.execution.WholeStageCodegenEvaluatorFactory$WholeStageCodegenPartitionEvaluator$$anon$1.hasNext(WholeStageCodegenEvaluatorFactory.scala:43)\n",
      "\tat org.apache.spark.sql.execution.SparkPlan.$anonfun$getByteArrayRdd$1(SparkPlan.scala:388)\n",
      "\tat org.apache.spark.rdd.RDD.$anonfun$mapPartitionsInternal$2(RDD.scala:893)\n",
      "\tat org.apache.spark.rdd.RDD.$anonfun$mapPartitionsInternal$2$adapted(RDD.scala:893)\n",
      "\tat org.apache.spark.rdd.MapPartitionsRDD.compute(MapPartitionsRDD.scala:52)\n",
      "\tat org.apache.spark.rdd.RDD.computeOrReadCheckpoint(RDD.scala:367)\n",
      "\tat org.apache.spark.rdd.RDD.iterator(RDD.scala:331)\n",
      "\tat org.apache.spark.scheduler.ResultTask.runTask(ResultTask.scala:93)\n",
      "\tat org.apache.spark.TaskContext.runTaskWithListeners(TaskContext.scala:166)\n",
      "\tat org.apache.spark.scheduler.Task.run(Task.scala:141)\n",
      "\tat org.apache.spark.executor.Executor$TaskRunner.$anonfun$run$4(Executor.scala:620)\n",
      "\tat org.apache.spark.util.SparkErrorUtils.tryWithSafeFinally(SparkErrorUtils.scala:64)\n",
      "\tat org.apache.spark.util.SparkErrorUtils.tryWithSafeFinally$(SparkErrorUtils.scala:61)\n",
      "\tat org.apache.spark.util.Utils$.tryWithSafeFinally(Utils.scala:94)\n",
      "\tat org.apache.spark.executor.Executor$TaskRunner.run(Executor.scala:623)\n",
      "\tat java.util.concurrent.ThreadPoolExecutor.runWorker(Unknown Source)\n",
      "\tat java.util.concurrent.ThreadPoolExecutor$Worker.run(Unknown Source)\n",
      "\t... 1 more\n",
      "Caused by: org.apache.hadoop.hdfs.BlockMissingException: Could not obtain block: BP-1050805-127.0.1.1-1706654335242:blk_1073741841_1017 file=/user1/CarPrice_Assignment.csv No live nodes contain current block Block locations: DatanodeInfoWithStorage[127.0.0.1:9866,DS-fe793909-b773-4118-8753-ccd6d4f9b0d5,DISK] Dead nodes:  DatanodeInfoWithStorage[127.0.0.1:9866,DS-fe793909-b773-4118-8753-ccd6d4f9b0d5,DISK]\n",
      "\tat org.apache.hadoop.hdfs.DFSInputStream.refetchLocations(DFSInputStream.java:1007)\n",
      "\tat org.apache.hadoop.hdfs.DFSInputStream.chooseDataNode(DFSInputStream.java:990)\n",
      "\tat org.apache.hadoop.hdfs.DFSInputStream.chooseDataNode(DFSInputStream.java:969)\n",
      "\tat org.apache.hadoop.hdfs.DFSInputStream.blockSeekTo(DFSInputStream.java:677)\n",
      "\tat org.apache.hadoop.hdfs.DFSInputStream.readWithStrategy(DFSInputStream.java:884)\n",
      "\tat org.apache.hadoop.hdfs.DFSInputStream.read(DFSInputStream.java:957)\n",
      "\tat java.io.DataInputStream.read(Unknown Source)\n",
      "\tat org.apache.hadoop.mapreduce.lib.input.UncompressedSplitLineReader.fillBuffer(UncompressedSplitLineReader.java:62)\n",
      "\tat org.apache.hadoop.util.LineReader.readDefaultLine(LineReader.java:227)\n",
      "\tat org.apache.hadoop.util.LineReader.readLine(LineReader.java:185)\n",
      "\tat org.apache.hadoop.mapreduce.lib.input.UncompressedSplitLineReader.readLine(UncompressedSplitLineReader.java:94)\n",
      "\tat org.apache.hadoop.mapreduce.lib.input.LineRecordReader.skipUtfByteOrderMark(LineRecordReader.java:158)\n",
      "\tat org.apache.hadoop.mapreduce.lib.input.LineRecordReader.nextKeyValue(LineRecordReader.java:198)\n",
      "\tat org.apache.spark.sql.execution.datasources.RecordReaderIterator.hasNext(RecordReaderIterator.scala:39)\n",
      "\tat org.apache.spark.sql.execution.datasources.HadoopFileLinesReader.hasNext(HadoopFileLinesReader.scala:67)\n",
      "\tat scala.collection.Iterator$$anon$10.hasNext(Iterator.scala:460)\n",
      "\tat scala.collection.Iterator$$anon$10.hasNext(Iterator.scala:460)\n",
      "\tat org.apache.spark.sql.execution.datasources.FileScanRDD$$anon$1.hasNext(FileScanRDD.scala:129)\n",
      "\tat org.apache.spark.sql.execution.datasources.FileScanRDD$$anon$1.nextIterator(FileScanRDD.scala:283)\n",
      "\t... 22 more\n",
      "\n"
     ]
    }
   ],
   "source": [
    "\n",
    "hd_path = \"hdfs://192.168.56.101:9000/user1/CarPrice_Assignment.csv\"\n",
    "\n",
    "try:\n",
    "   \n",
    "\n",
    "  # Read the CSV files using the specified path\n",
    "  df = spark.read.csv(hd_path, header = True, inferSchema = True)\n",
    "\n",
    "  # Print the first few rows of the DataFrame (optional)\n",
    "  df.show(2)\n",
    "\n",
    "   \n",
    "except Exception as e:\n",
    "    print(\"An error occurred:\", str(e))\n"
   ]
  },
  {
   "cell_type": "markdown",
   "id": "cda44c3b",
   "metadata": {},
   "source": [
    "# Loading data localy \n",
    "    In case of hadoop is unavailable"
   ]
  },
  {
   "cell_type": "code",
   "execution_count": 5,
   "id": "fb04fd47",
   "metadata": {},
   "outputs": [
    {
     "name": "stdout",
     "output_type": "stream",
     "text": [
      " Volume in drive C has no label.\n",
      " Volume Serial Number is D689-872F\n",
      "\n",
      " Directory of c:\\Users\\josemario.Costa\\OneDrive\\CCT\\MsC_Data_Analytics\\CA01_Sem_02_MSc_Data_Analytics\n",
      "\n",
      "20/03/2024  11:33    <DIR>          .\n",
      "08/03/2024  22:58    <DIR>          ..\n",
      "20/03/2024  10:38    <DIR>          .git\n",
      "19/03/2024  09:32               111 .gitignore\n",
      "15/03/2024  10:53    <DIR>          .ipynb_checkpoints\n",
      "13/03/2024  16:30        40,817,886 202301-capitalbikeshare-tripdata.csv\n",
      "13/03/2024  16:30        41,557,668 202302-captialbikeshare-tripdata.csv\n",
      "13/03/2024  16:30        58,127,568 202303-capitalbikeshare-tripdata.csv\n",
      "13/03/2024  16:30        77,469,016 202304-capitalbikeshare-tripdata.csv\n",
      "13/03/2024  16:30        85,942,204 202305-capitalbikeshare-tripdata.csv\n",
      "13/03/2024  16:30        85,406,857 202306-capitalbikeshare-tripdata.csv\n",
      "13/03/2024  16:30        92,502,758 202307-capitalbikeshare-tripdata.csv\n",
      "13/03/2024  16:30        93,045,620 202308-capitalbikeshare-tripdata.csv\n",
      "13/03/2024  16:30        88,694,524 202309-capitalbikeshare-tripdata.csv\n",
      "13/03/2024  16:30        96,229,466 202310-capitalbikeshare-tripdata.csv\n",
      "13/03/2024  16:31        69,723,714 202311-capitalbikeshare-tripdata.csv\n",
      "13/03/2024  16:31        53,275,937 202312-capitalbikeshare-tripdata.csv\n",
      "20/03/2024  11:33           210,886 Bike_Share_Prediction_Code.ipynb\n",
      "19/03/2024  14:35           184,576 Bike-Sharing_RNN_Jose_Mario_da_Cruz_Costa.docx\n",
      "03/03/2024  16:12            98,889 Integrated CA1 Sem 2 MSc in Data Analytics V4.docx\n",
      "19/03/2024  09:23    <DIR>          papers\n",
      "19/03/2024  09:30             2,461 README.md\n",
      "15/03/2024  10:54             1,918 rnn.ipynb\n",
      "20/03/2024  10:31            97,638 RNN_Time_Series.ipynb\n",
      "12/03/2024  11:09               118 untitled.txt\n",
      "15/03/2024  11:00    <DIR>          usr1\n",
      "              20 File(s)    883,389,815 bytes\n",
      "               6 Dir(s)  309,707,018,240 bytes free\n"
     ]
    }
   ],
   "source": [
    "ls"
   ]
  },
  {
   "cell_type": "code",
   "execution_count": 7,
   "id": "c79b0c71",
   "metadata": {},
   "outputs": [],
   "source": [
    "# path to directory where the files are\n",
    "\n",
    "df = spark.read.csv(\"202301-capitalbikeshare-tripdata.csv\", header=True, inferSchema = True)\n"
   ]
  },
  {
   "cell_type": "code",
   "execution_count": 4,
   "id": "c6cc7829",
   "metadata": {},
   "outputs": [
    {
     "name": "stdout",
     "output_type": "stream",
     "text": [
      "root\n",
      " |-- ride_id: string (nullable = true)\n",
      " |-- rideable_type: string (nullable = true)\n",
      " |-- started_at: timestamp (nullable = true)\n",
      " |-- ended_at: timestamp (nullable = true)\n",
      " |-- start_station_name: string (nullable = true)\n",
      " |-- start_station_id: integer (nullable = true)\n",
      " |-- end_station_name: string (nullable = true)\n",
      " |-- end_station_id: integer (nullable = true)\n",
      " |-- start_lat: double (nullable = true)\n",
      " |-- start_lng: double (nullable = true)\n",
      " |-- end_lat: double (nullable = true)\n",
      " |-- end_lng: double (nullable = true)\n",
      " |-- member_casual: string (nullable = true)\n",
      "\n"
     ]
    }
   ],
   "source": [
    "df.printSchema()"
   ]
  },
  {
   "cell_type": "markdown",
   "id": "4bbb5164",
   "metadata": {},
   "source": [
    "### Checking the shape of the dataframe\\\n"
   ]
  },
  {
   "cell_type": "code",
   "execution_count": 5,
   "id": "0a653eaf",
   "metadata": {},
   "outputs": [
    {
     "name": "stdout",
     "output_type": "stream",
     "text": [
      "(204077, 13)\n"
     ]
    }
   ],
   "source": [
    "print((df.count(), len(df.columns)))"
   ]
  },
  {
   "cell_type": "markdown",
   "id": "f851bb4e",
   "metadata": {},
   "source": [
    "When it comes to using RNNs for time series forecasting or analysis, the data structure must have some level of consistency, as each row of the dataset represents one trip, only  a new column was created to represent the tripa and only  date and trips were selected from the dataset"
   ]
  },
  {
   "cell_type": "code",
   "execution_count": 6,
   "id": "afd99f18",
   "metadata": {},
   "outputs": [],
   "source": [
    "trips = df.select(\"started_at\")"
   ]
  },
  {
   "cell_type": "code",
   "execution_count": 7,
   "id": "2adf0192",
   "metadata": {},
   "outputs": [],
   "source": [
    "trips = trips.withColumn(\"trips\", lit(1))"
   ]
  },
  {
   "cell_type": "code",
   "execution_count": 8,
   "id": "57cf54c7",
   "metadata": {},
   "outputs": [
    {
     "name": "stdout",
     "output_type": "stream",
     "text": [
      "+-------------------+-----+\n",
      "|         started_at|trips|\n",
      "+-------------------+-----+\n",
      "|2023-01-04 19:34:07|    1|\n",
      "|2023-01-27 15:26:38|    1|\n",
      "|2023-01-05 20:44:38|    1|\n",
      "+-------------------+-----+\n",
      "only showing top 3 rows\n",
      "\n"
     ]
    }
   ],
   "source": [
    "trips.show(3)"
   ]
  },
  {
   "cell_type": "code",
   "execution_count": 9,
   "id": "c42c7242",
   "metadata": {},
   "outputs": [
    {
     "name": "stdout",
     "output_type": "stream",
     "text": [
      "root\n",
      " |-- started_at: timestamp (nullable = true)\n",
      " |-- trips: integer (nullable = false)\n",
      "\n"
     ]
    }
   ],
   "source": [
    "trips.printSchema()"
   ]
  },
  {
   "cell_type": "code",
   "execution_count": 10,
   "id": "04b9ddb0",
   "metadata": {},
   "outputs": [],
   "source": [
    "window_spec = window(trips['started_at'], \"1 day\")\n",
    "daily_df = trips.groupBy(window_spec).agg(sum(\"trips\").alias(\"total_trips\"))\n"
   ]
  },
  {
   "cell_type": "code",
   "execution_count": 11,
   "id": "1b293a8e",
   "metadata": {},
   "outputs": [],
   "source": [
    "daily_df = daily_df.orderBy(\"window\")"
   ]
  },
  {
   "cell_type": "code",
   "execution_count": 12,
   "id": "944d4a55",
   "metadata": {
    "scrolled": true
   },
   "outputs": [
    {
     "name": "stdout",
     "output_type": "stream",
     "text": [
      "+--------------------+-----------+\n",
      "|              window|total_trips|\n",
      "+--------------------+-----------+\n",
      "|{2023-01-01 00:00...|       6787|\n",
      "|{2023-01-02 00:00...|       7240|\n",
      "|{2023-01-03 00:00...|       7559|\n",
      "|{2023-01-04 00:00...|       7791|\n",
      "|{2023-01-05 00:00...|       8409|\n",
      "|{2023-01-06 00:00...|       6719|\n",
      "|{2023-01-07 00:00...|       7122|\n",
      "|{2023-01-08 00:00...|       5176|\n",
      "|{2023-01-09 00:00...|       6520|\n",
      "|{2023-01-10 00:00...|       7303|\n",
      "+--------------------+-----------+\n",
      "only showing top 10 rows\n",
      "\n"
     ]
    }
   ],
   "source": [
    "daily_df.show(10)"
   ]
  },
  {
   "cell_type": "code",
   "execution_count": 13,
   "id": "e26b3841",
   "metadata": {},
   "outputs": [
    {
     "name": "stdout",
     "output_type": "stream",
     "text": [
      "+-------+------------------+\n",
      "|summary|       total_trips|\n",
      "+-------+------------------+\n",
      "|  count|                31|\n",
      "|   mean| 6583.129032258064|\n",
      "| stddev|1224.3107650683976|\n",
      "|    min|              4001|\n",
      "|    max|              8712|\n",
      "+-------+------------------+\n",
      "\n"
     ]
    }
   ],
   "source": [
    "daily_df.describe().show()"
   ]
  },
  {
   "cell_type": "code",
   "execution_count": 14,
   "id": "f0569343",
   "metadata": {},
   "outputs": [
    {
     "data": {
      "image/png": "[encoded data removed]",
      "text/plain": [
       "<Figure size 1000x600 with 1 Axes>"
      ]
     },
     "metadata": {},
     "output_type": "display_data"
    }
   ],
   "source": [
    "# Converting PySpark DataFrame to Pandas DataFrame\n",
    "pandas_df = daily_df.toPandas()\n",
    "\n",
    "# Plotting a histogram\n",
    "plt.figure(figsize=(10, 6))\n",
    "plt.hist(pandas_df['total_trips'], bins=20, color='skyblue', edgecolor='black')\n",
    "plt.title('Distribution of Total Trips per Day')\n",
    "plt.xlabel('Total Trips')\n",
    "plt.ylabel('Frequency')\n",
    "plt.grid(False)\n",
    "plt.show()\n"
   ]
  },
  {
   "cell_type": "code",
   "execution_count": 48,
   "id": "4205963b",
   "metadata": {},
   "outputs": [],
   "source": [
    "trips = pandas_df.iloc[:,-1]"
   ]
  },
  {
   "cell_type": "code",
   "execution_count": 49,
   "id": "760f36b0",
   "metadata": {},
   "outputs": [
    {
     "data": {
      "text/plain": [
       "pandas.core.series.Series"
      ]
     },
     "execution_count": 49,
     "metadata": {},
     "output_type": "execute_result"
    }
   ],
   "source": [
    "type(trips)"
   ]
  },
  {
   "cell_type": "code",
   "execution_count": 50,
   "id": "95ca1143",
   "metadata": {},
   "outputs": [
    {
     "data": {
      "image/png": "[encoded data removed]",
      "text/plain": [
       "<Figure size 1500x300 with 1 Axes>"
      ]
     },
     "metadata": {},
     "output_type": "display_data"
    }
   ],
   "source": [
    "plt.figure(figsize=(15, 3))\n",
    "\n",
    "trips.plot(kind='line') \n",
    "\n",
    "plt.title(\"Trips per Day\")\n",
    "plt.xlabel(\"Day\")\n",
    "plt.ylabel(\"Trips\")\n",
    "plt.grid(False)\n",
    "plt.show()"
   ]
  },
  {
   "cell_type": "markdown",
   "id": "7b7c1e65",
   "metadata": {},
   "source": [
    "# LSTM \n"
   ]
  },
  {
   "cell_type": "markdown",
   "id": "0f73f3d3",
   "metadata": {},
   "source": [
    "TensorFlow is designed to work primarily with NumPy arrays. Because of this, pandas.core.series will be transform into NumPy arrays."
   ]
  },
  {
   "cell_type": "code",
   "execution_count": 56,
   "id": "9c8f3fc4",
   "metadata": {},
   "outputs": [
    {
     "data": {
      "text/plain": [
       "numpy.ndarray"
      ]
     },
     "execution_count": 56,
     "metadata": {},
     "output_type": "execute_result"
    }
   ],
   "source": [
    "# convert to numpy array\n",
    "\n",
    "np_trips = trips.to_numpy()\n",
    "np_trips = np_trips.reshape(-1,1)\n",
    "type(np_trips)"
   ]
  },
  {
   "cell_type": "markdown",
   "id": "4d46dad2",
   "metadata": {},
   "source": [
    "# Normalize the data,  the recommended scaler for LSTM is  MinMaxScaler in a range of 0,1"
   ]
  },
  {
   "cell_type": "code",
   "execution_count": 59,
   "id": "8bc727da",
   "metadata": {},
   "outputs": [],
   "source": [
    "# normalize the dataset\n",
    "scaler = MinMaxScaler(feature_range=(0, 1))\n",
    "np_trips = scaler.fit_transform(np_trips)"
   ]
  },
  {
   "cell_type": "code",
   "execution_count": 60,
   "id": "25b79c88",
   "metadata": {},
   "outputs": [],
   "source": [
    "# split into train and test sets\n",
    "train_size = int(len(np_trips) * 0.8)\n",
    "test_size = len(np_trips) - train_size\n",
    "train, test = np_trips[0:train_size,:], np_trips[train_size:len(np_trips),:]\n"
   ]
  },
  {
   "cell_type": "markdown",
   "id": "9e174b9b",
   "metadata": {},
   "source": [
    "The next thing we need to do is to specify our number of timesteps. Timesteps specify how many previous observations should be considered when the recurrent neural network makes a prediction about the current observation.\n",
    "We will use 7 (week based) timesteps. This means that for every day that the neural network predicts, it will consider the previous 7 days of trips to determine its output. \n"
   ]
  },
  {
   "cell_type": "code",
   "execution_count": 64,
   "id": "7415c1e1",
   "metadata": {},
   "outputs": [],
   "source": [
    "# convert an array of values into a dataset matrix\n",
    "def create_dataset(dataset, look_back=1):\n",
    "\tdataX, dataY = [], []\n",
    "\tfor i in range(len(dataset)-look_back-1):\n",
    "\t\ta = dataset[i:(i+look_back), 0]\n",
    "\t\tdataX.append(a)\n",
    "\t\tdataY.append(dataset[i + look_back, 0])\n",
    "\treturn np.array(dataX), np.array(dataY)\n"
   ]
  },
  {
   "cell_type": "code",
   "execution_count": 65,
   "id": "05e9182b",
   "metadata": {},
   "outputs": [],
   "source": [
    "# reshape into X=t and Y=t+1\n",
    "look_back = 1\n",
    "trainX, trainY = create_dataset(train, look_back)\n",
    "testX, testY = create_dataset(test, look_back)"
   ]
  },
  {
   "cell_type": "code",
   "execution_count": 66,
   "id": "0fad1f13",
   "metadata": {},
   "outputs": [],
   "source": [
    "# reshape input to be [samples, time steps, features]\n",
    "trainX = np.reshape(trainX, (trainX.shape[0], 1, trainX.shape[1]))\n",
    "testX = np.reshape(testX, (testX.shape[0], 1, testX.shape[1]))\n"
   ]
  },
  {
   "cell_type": "code",
   "execution_count": 67,
   "id": "496efc24",
   "metadata": {},
   "outputs": [
    {
     "name": "stdout",
     "output_type": "stream",
     "text": [
      "Epoch 1/100\n",
      "22/22 - 1s - 56ms/step - loss: 0.3904\n",
      "Epoch 2/100\n",
      "22/22 - 0s - 5ms/step - loss: 0.3453\n",
      "Epoch 3/100\n",
      "22/22 - 0s - 3ms/step - loss: 0.3072\n",
      "Epoch 4/100\n",
      "22/22 - 0s - 5ms/step - loss: 0.2707\n",
      "Epoch 5/100\n",
      "22/22 - 0s - 11ms/step - loss: 0.2373\n",
      "Epoch 6/100\n",
      "22/22 - 0s - 2ms/step - loss: 0.2081\n",
      "Epoch 7/100\n",
      "22/22 - 0s - 2ms/step - loss: 0.1810\n",
      "Epoch 8/100\n",
      "22/22 - 0s - 2ms/step - loss: 0.1567\n",
      "Epoch 9/100\n",
      "22/22 - 0s - 2ms/step - loss: 0.1356\n",
      "Epoch 10/100\n",
      "22/22 - 0s - 2ms/step - loss: 0.1184\n",
      "Epoch 11/100\n",
      "22/22 - 0s - 2ms/step - loss: 0.1017\n",
      "Epoch 12/100\n",
      "22/22 - 0s - 2ms/step - loss: 0.0889\n",
      "Epoch 13/100\n",
      "22/22 - 0s - 2ms/step - loss: 0.0798\n",
      "Epoch 14/100\n",
      "22/22 - 0s - 2ms/step - loss: 0.0710\n",
      "Epoch 15/100\n",
      "22/22 - 0s - 2ms/step - loss: 0.0650\n",
      "Epoch 16/100\n",
      "22/22 - 0s - 2ms/step - loss: 0.0612\n",
      "Epoch 17/100\n",
      "22/22 - 0s - 2ms/step - loss: 0.0572\n",
      "Epoch 18/100\n",
      "22/22 - 0s - 2ms/step - loss: 0.0552\n",
      "Epoch 19/100\n",
      "22/22 - 0s - 2ms/step - loss: 0.0533\n",
      "Epoch 20/100\n",
      "22/22 - 0s - 2ms/step - loss: 0.0523\n",
      "Epoch 21/100\n",
      "22/22 - 0s - 2ms/step - loss: 0.0517\n",
      "Epoch 22/100\n",
      "22/22 - 0s - 2ms/step - loss: 0.0512\n",
      "Epoch 23/100\n",
      "22/22 - 0s - 2ms/step - loss: 0.0508\n",
      "Epoch 24/100\n",
      "22/22 - 0s - 2ms/step - loss: 0.0505\n",
      "Epoch 25/100\n",
      "22/22 - 0s - 2ms/step - loss: 0.0506\n",
      "Epoch 26/100\n",
      "22/22 - 0s - 2ms/step - loss: 0.0508\n",
      "Epoch 27/100\n",
      "22/22 - 0s - 2ms/step - loss: 0.0503\n",
      "Epoch 28/100\n",
      "22/22 - 0s - 2ms/step - loss: 0.0504\n",
      "Epoch 29/100\n",
      "22/22 - 0s - 2ms/step - loss: 0.0504\n",
      "Epoch 30/100\n",
      "22/22 - 0s - 2ms/step - loss: 0.0502\n",
      "Epoch 31/100\n",
      "22/22 - 0s - 2ms/step - loss: 0.0504\n",
      "Epoch 32/100\n",
      "22/22 - 0s - 2ms/step - loss: 0.0502\n",
      "Epoch 33/100\n",
      "22/22 - 0s - 2ms/step - loss: 0.0501\n",
      "Epoch 34/100\n",
      "22/22 - 0s - 2ms/step - loss: 0.0502\n",
      "Epoch 35/100\n",
      "22/22 - 0s - 2ms/step - loss: 0.0501\n",
      "Epoch 36/100\n",
      "22/22 - 0s - 2ms/step - loss: 0.0502\n",
      "Epoch 37/100\n",
      "22/22 - 0s - 2ms/step - loss: 0.0503\n",
      "Epoch 38/100\n",
      "22/22 - 0s - 2ms/step - loss: 0.0501\n",
      "Epoch 39/100\n",
      "22/22 - 0s - 2ms/step - loss: 0.0503\n",
      "Epoch 40/100\n",
      "22/22 - 0s - 2ms/step - loss: 0.0501\n",
      "Epoch 41/100\n",
      "22/22 - 0s - 2ms/step - loss: 0.0503\n",
      "Epoch 42/100\n",
      "22/22 - 0s - 2ms/step - loss: 0.0502\n",
      "Epoch 43/100\n",
      "22/22 - 0s - 2ms/step - loss: 0.0503\n",
      "Epoch 44/100\n",
      "22/22 - 0s - 2ms/step - loss: 0.0503\n",
      "Epoch 45/100\n",
      "22/22 - 0s - 2ms/step - loss: 0.0502\n",
      "Epoch 46/100\n",
      "22/22 - 0s - 3ms/step - loss: 0.0506\n",
      "Epoch 47/100\n",
      "22/22 - 0s - 3ms/step - loss: 0.0501\n",
      "Epoch 48/100\n",
      "22/22 - 0s - 2ms/step - loss: 0.0503\n",
      "Epoch 49/100\n",
      "22/22 - 0s - 3ms/step - loss: 0.0502\n",
      "Epoch 50/100\n",
      "22/22 - 0s - 2ms/step - loss: 0.0501\n",
      "Epoch 51/100\n",
      "22/22 - 0s - 2ms/step - loss: 0.0505\n",
      "Epoch 52/100\n",
      "22/22 - 0s - 2ms/step - loss: 0.0502\n",
      "Epoch 53/100\n",
      "22/22 - 0s - 2ms/step - loss: 0.0502\n",
      "Epoch 54/100\n",
      "22/22 - 0s - 2ms/step - loss: 0.0501\n",
      "Epoch 55/100\n",
      "22/22 - 0s - 2ms/step - loss: 0.0506\n",
      "Epoch 56/100\n",
      "22/22 - 0s - 2ms/step - loss: 0.0503\n",
      "Epoch 57/100\n",
      "22/22 - 0s - 2ms/step - loss: 0.0505\n",
      "Epoch 58/100\n",
      "22/22 - 0s - 2ms/step - loss: 0.0502\n",
      "Epoch 59/100\n",
      "22/22 - 0s - 2ms/step - loss: 0.0503\n",
      "Epoch 60/100\n",
      "22/22 - 0s - 2ms/step - loss: 0.0501\n",
      "Epoch 61/100\n",
      "22/22 - 0s - 2ms/step - loss: 0.0508\n",
      "Epoch 62/100\n",
      "22/22 - 0s - 3ms/step - loss: 0.0511\n",
      "Epoch 63/100\n",
      "22/22 - 0s - 3ms/step - loss: 0.0503\n",
      "Epoch 64/100\n",
      "22/22 - 0s - 3ms/step - loss: 0.0502\n",
      "Epoch 65/100\n",
      "22/22 - 0s - 2ms/step - loss: 0.0501\n",
      "Epoch 66/100\n",
      "22/22 - 0s - 3ms/step - loss: 0.0502\n",
      "Epoch 67/100\n",
      "22/22 - 0s - 3ms/step - loss: 0.0501\n",
      "Epoch 68/100\n",
      "22/22 - 0s - 2ms/step - loss: 0.0501\n",
      "Epoch 69/100\n",
      "22/22 - 0s - 2ms/step - loss: 0.0501\n",
      "Epoch 70/100\n",
      "22/22 - 0s - 2ms/step - loss: 0.0502\n",
      "Epoch 71/100\n",
      "22/22 - 0s - 2ms/step - loss: 0.0502\n",
      "Epoch 72/100\n",
      "22/22 - 0s - 2ms/step - loss: 0.0503\n",
      "Epoch 73/100\n",
      "22/22 - 0s - 2ms/step - loss: 0.0504\n",
      "Epoch 74/100\n",
      "22/22 - 0s - 2ms/step - loss: 0.0503\n",
      "Epoch 75/100\n",
      "22/22 - 0s - 2ms/step - loss: 0.0507\n",
      "Epoch 76/100\n",
      "22/22 - 0s - 2ms/step - loss: 0.0504\n",
      "Epoch 77/100\n",
      "22/22 - 0s - 2ms/step - loss: 0.0501\n",
      "Epoch 78/100\n",
      "22/22 - 0s - 2ms/step - loss: 0.0502\n",
      "Epoch 79/100\n",
      "22/22 - 0s - 2ms/step - loss: 0.0507\n",
      "Epoch 80/100\n",
      "22/22 - 0s - 2ms/step - loss: 0.0500\n",
      "Epoch 81/100\n",
      "22/22 - 0s - 2ms/step - loss: 0.0501\n",
      "Epoch 82/100\n",
      "22/22 - 0s - 3ms/step - loss: 0.0501\n",
      "Epoch 83/100\n",
      "22/22 - 0s - 2ms/step - loss: 0.0502\n",
      "Epoch 84/100\n",
      "22/22 - 0s - 2ms/step - loss: 0.0504\n",
      "Epoch 85/100\n",
      "22/22 - 0s - 2ms/step - loss: 0.0501\n",
      "Epoch 86/100\n",
      "22/22 - 0s - 2ms/step - loss: 0.0501\n",
      "Epoch 87/100\n",
      "22/22 - 0s - 2ms/step - loss: 0.0506\n",
      "Epoch 88/100\n",
      "22/22 - 0s - 2ms/step - loss: 0.0500\n",
      "Epoch 89/100\n",
      "22/22 - 0s - 2ms/step - loss: 0.0501\n",
      "Epoch 90/100\n",
      "22/22 - 0s - 2ms/step - loss: 0.0501\n",
      "Epoch 91/100\n",
      "22/22 - 0s - 2ms/step - loss: 0.0504\n",
      "Epoch 92/100\n",
      "22/22 - 0s - 2ms/step - loss: 0.0504\n",
      "Epoch 93/100\n",
      "22/22 - 0s - 2ms/step - loss: 0.0501\n",
      "Epoch 94/100\n",
      "22/22 - 0s - 2ms/step - loss: 0.0502\n",
      "Epoch 95/100\n",
      "22/22 - 0s - 2ms/step - loss: 0.0501\n",
      "Epoch 96/100\n",
      "22/22 - 0s - 2ms/step - loss: 0.0503\n",
      "Epoch 97/100\n",
      "22/22 - 0s - 2ms/step - loss: 0.0501\n",
      "Epoch 98/100\n",
      "22/22 - 0s - 2ms/step - loss: 0.0504\n",
      "Epoch 99/100\n",
      "22/22 - 0s - 2ms/step - loss: 0.0509\n",
      "Epoch 100/100\n",
      "22/22 - 0s - 3ms/step - loss: 0.0503\n"
     ]
    },
    {
     "data": {
      "text/plain": [
       "<keras.src.callbacks.history.History at 0x2879f1dcd90>"
      ]
     },
     "execution_count": 67,
     "metadata": {},
     "output_type": "execute_result"
    }
   ],
   "source": [
    "# create and fit the LSTM network\n",
    "model = Sequential()\n",
    "model.add(LSTM(4, input_shape=(1, look_back)))\n",
    "model.add(Dense(1))\n",
    "model.compile(loss='mean_squared_error', optimizer='adam')\n",
    "model.fit(trainX, trainY, epochs=100, batch_size=1, verbose=2)"
   ]
  },
  {
   "cell_type": "code",
   "execution_count": 68,
   "id": "d3d827cc",
   "metadata": {},
   "outputs": [
    {
     "name": "stdout",
     "output_type": "stream",
     "text": [
      "\u001b[1m1/1\u001b[0m \u001b[32m━━━━━━━━━━━━━━━━━━━━\u001b[0m\u001b[37m\u001b[0m \u001b[1m0s\u001b[0m 111ms/step\n",
      "\u001b[1m1/1\u001b[0m \u001b[32m━━━━━━━━━━━━━━━━━━━━\u001b[0m\u001b[37m\u001b[0m \u001b[1m0s\u001b[0m 125ms/step\n"
     ]
    }
   ],
   "source": [
    "# make predictions\n",
    "trainPredict = model.predict(trainX)\n",
    "testPredict = model.predict(testX)"
   ]
  },
  {
   "cell_type": "code",
   "execution_count": 69,
   "id": "fed7b93a",
   "metadata": {},
   "outputs": [],
   "source": [
    "# invert predictions\n",
    "trainPredict = scaler.inverse_transform(trainPredict)\n",
    "trainY = scaler.inverse_transform([trainY])\n",
    "testPredict = scaler.inverse_transform(testPredict)\n",
    "testY = scaler.inverse_transform([testY])\n"
   ]
  },
  {
   "cell_type": "code",
   "execution_count": 70,
   "id": "c2910077",
   "metadata": {},
   "outputs": [
    {
     "name": "stdout",
     "output_type": "stream",
     "text": [
      "Train Score: 1053.06 RMSE\n",
      "Test Score: 1638.35 RMSE\n"
     ]
    }
   ],
   "source": [
    "# calculate root mean squared error\n",
    "trainScore = np.sqrt(mean_squared_error(trainY[0], trainPredict[:,0]))\n",
    "print('Train Score: %.2f RMSE' % (trainScore))\n",
    "testScore = np.sqrt(mean_squared_error(testY[0], testPredict[:,0]))\n",
    "print('Test Score: %.2f RMSE' % (testScore))\n"
   ]
  },
  {
   "cell_type": "code",
   "execution_count": 72,
   "id": "aa0f199d",
   "metadata": {},
   "outputs": [],
   "source": [
    "# shift train predictions for plotting\n",
    "trainPredictPlot = np.empty_like(np_trips)\n",
    "trainPredictPlot[:, :] = np.nan\n",
    "trainPredictPlot[look_back:len(trainPredict)+look_back, :] = trainPredict"
   ]
  },
  {
   "cell_type": "code",
   "execution_count": 74,
   "id": "5bc403d9",
   "metadata": {},
   "outputs": [],
   "source": [
    "# shift test predictions for plotting\n",
    "testPredictPlot = np.empty_like(np_trips)\n",
    "testPredictPlot[:, :] = np.nan\n",
    "testPredictPlot[len(trainPredict)+(look_back*2)+1:len(np_trips)-1, :] = testPredict"
   ]
  },
  {
   "cell_type": "code",
   "execution_count": 75,
   "id": "bad03d30",
   "metadata": {},
   "outputs": [
    {
     "data": {
      "image/png": "[encoded data removed]",
      "text/plain": [
       "<Figure size 640x480 with 1 Axes>"
      ]
     },
     "metadata": {},
     "output_type": "display_data"
    }
   ],
   "source": [
    "# plot baseline and predictions\n",
    "plt.plot(scaler.inverse_transform(np_trips))\n",
    "plt.plot(trainPredictPlot)\n",
    "plt.plot(testPredictPlot)\n",
    "plt.show()"
   ]
  }
 ],
 "metadata": {
  "kernelspec": {
   "display_name": "Python 3 (ipykernel)",
   "language": "python",
   "name": "python3"
  },
  "language_info": {
   "codemirror_mode": {
    "name": "ipython",
    "version": 3
   },
   "file_extension": ".py",
   "mimetype": "text/x-python",
   "name": "python",
   "nbconvert_exporter": "python",
   "pygments_lexer": "ipython3",
   "version": "undefined.undefined.undefined"
  }
 },
 "nbformat": 4,
 "nbformat_minor": 5
}
