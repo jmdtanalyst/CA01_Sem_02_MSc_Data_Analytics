{
 "cells": [
  {
   "cell_type": "code",
   "execution_count": 52,
   "metadata": {},
   "outputs": [],
   "source": [
    "\n",
    "import pandas as pd\n",
    "\n",
    "\n"
   ]
  },
  {
   "cell_type": "code",
   "execution_count": 54,
   "metadata": {},
   "outputs": [],
   "source": []
  },
  {
   "cell_type": "code",
   "execution_count": 56,
   "metadata": {},
   "outputs": [
    {
     "data": {
      "text/plain": [
       "((112799, 785), (112799, 785))"
      ]
     },
     "execution_count": 56,
     "metadata": {},
     "output_type": "execute_result"
    }
   ],
   "source": [
    "X_train.shape, X_train.shape"
   ]
  },
  {
   "cell_type": "code",
   "execution_count": 50,
   "metadata": {},
   "outputs": [
    {
     "data": {
      "text/plain": [
       "array([[(array([[(array([[0, 0, 0, ..., 0, 0, 0],\n",
       "                       [0, 0, 0, ..., 0, 0, 0],\n",
       "                       [0, 0, 0, ..., 0, 0, 0],\n",
       "                       ...,\n",
       "                       [0, 0, 0, ..., 0, 0, 0],\n",
       "                       [0, 0, 0, ..., 0, 0, 0],\n",
       "                       [0, 0, 0, ..., 0, 0, 0]], dtype=uint8), array([[8],\n",
       "                       [9],\n",
       "                       [6],\n",
       "                       ...,\n",
       "                       [1],\n",
       "                       [1],\n",
       "                       [0]], dtype=uint8), array([[3315],\n",
       "                       [ 302],\n",
       "                       [2136],\n",
       "                       ...,\n",
       "                       [1486],\n",
       "                       [  43],\n",
       "                       [3747]], dtype=uint16))                            ]],\n",
       "              dtype=[('images', 'O'), ('labels', 'O'), ('writers', 'O')]), array([[(array([[0, 0, 0, ..., 0, 0, 0],\n",
       "                       [0, 0, 0, ..., 0, 0, 0],\n",
       "                       [0, 0, 0, ..., 0, 0, 0],\n",
       "                       ...,\n",
       "                       [0, 0, 0, ..., 0, 0, 0],\n",
       "                       [0, 0, 0, ..., 0, 0, 0],\n",
       "                       [0, 0, 0, ..., 0, 0, 0]], dtype=uint8), array([[0],\n",
       "                       [9],\n",
       "                       [7],\n",
       "                       ...,\n",
       "                       [3],\n",
       "                       [7],\n",
       "                       [4]], dtype=uint8), array([[3629],\n",
       "                       [ 404],\n",
       "                       [1077],\n",
       "                       ...,\n",
       "                       [ 769],\n",
       "                       [2312],\n",
       "                       [3691]], dtype=uint16))                            ]],\n",
       "              dtype=[('images', 'O'), ('labels', 'O'), ('writers', 'O')]), array([[ 0, 48],\n",
       "               [ 1, 49],\n",
       "               [ 2, 50],\n",
       "               [ 3, 51],\n",
       "               [ 4, 52],\n",
       "               [ 5, 53],\n",
       "               [ 6, 54],\n",
       "               [ 7, 55],\n",
       "               [ 8, 56],\n",
       "               [ 9, 57]], dtype=uint8))                                                                            ]],\n",
       "      dtype=[('train', 'O'), ('test', 'O'), ('mapping', 'O')])"
      ]
     },
     "execution_count": 50,
     "metadata": {},
     "output_type": "execute_result"
    }
   ],
   "source": [
    "dataset"
   ]
  },
  {
   "cell_type": "code",
   "execution_count": 44,
   "metadata": {},
   "outputs": [
    {
     "data": {
      "text/plain": [
       "array([[array([[ 0, 48],\n",
       "               [ 1, 49],\n",
       "               [ 2, 50],\n",
       "               [ 3, 51],\n",
       "               [ 4, 52],\n",
       "               [ 5, 53],\n",
       "               [ 6, 54],\n",
       "               [ 7, 55],\n",
       "               [ 8, 56],\n",
       "               [ 9, 57]], dtype=uint8)]], dtype=object)"
      ]
     },
     "execution_count": 44,
     "metadata": {},
     "output_type": "execute_result"
    }
   ],
   "source": [
    "train = "
   ]
  },
  {
   "cell_type": "code",
   "execution_count": 34,
   "metadata": {},
   "outputs": [
    {
     "ename": "ValueError",
     "evalue": "cannot reshape array of size 1 into shape (1,28,28,1)",
     "output_type": "error",
     "traceback": [
      "\u001b[1;31m---------------------------------------------------------------------------\u001b[0m",
      "\u001b[1;31mValueError\u001b[0m                                Traceback (most recent call last)",
      "Cell \u001b[1;32mIn[34], line 1\u001b[0m\n\u001b[1;32m----> 1\u001b[0m dataset \u001b[38;5;241m=\u001b[39m \u001b[43mdataset\u001b[49m\u001b[38;5;241;43m.\u001b[39;49m\u001b[43mreshape\u001b[49m\u001b[43m(\u001b[49m\u001b[43mdataset\u001b[49m\u001b[38;5;241;43m.\u001b[39;49m\u001b[43mshape\u001b[49m\u001b[43m[\u001b[49m\u001b[38;5;241;43m0\u001b[39;49m\u001b[43m]\u001b[49m\u001b[43m,\u001b[49m\u001b[43m \u001b[49m\u001b[38;5;241;43m28\u001b[39;49m\u001b[43m,\u001b[49m\u001b[43m \u001b[49m\u001b[38;5;241;43m28\u001b[39;49m\u001b[43m,\u001b[49m\u001b[43m \u001b[49m\u001b[38;5;241;43m1\u001b[39;49m\u001b[43m)\u001b[49m\n\u001b[0;32m      2\u001b[0m dataset\n",
      "\u001b[1;31mValueError\u001b[0m: cannot reshape array of size 1 into shape (1,28,28,1)"
     ]
    }
   ],
   "source": [
    "dataset = dataset.reshape(dataset.shape[0], 28, 28, 1)\n",
    "dataset"
   ]
  },
  {
   "cell_type": "code",
   "execution_count": 19,
   "metadata": {},
   "outputs": [
    {
     "ename": "ValueError",
     "evalue": "no field of name labels",
     "output_type": "error",
     "traceback": [
      "\u001b[1;31m---------------------------------------------------------------------------\u001b[0m",
      "\u001b[1;31mValueError\u001b[0m                                Traceback (most recent call last)",
      "Cell \u001b[1;32mIn[19], line 1\u001b[0m\n\u001b[1;32m----> 1\u001b[0m targets \u001b[38;5;241m=\u001b[39m \u001b[43mdataset\u001b[49m\u001b[43m[\u001b[49m\u001b[38;5;124;43m'\u001b[39;49m\u001b[38;5;124;43mlabels\u001b[39;49m\u001b[38;5;124;43m'\u001b[39;49m\u001b[43m]\u001b[49m\n",
      "\u001b[1;31mValueError\u001b[0m: no field of name labels"
     ]
    }
   ],
   "source": [
    "targets = dataset['labels']"
   ]
  },
  {
   "cell_type": "code",
   "execution_count": 17,
   "metadata": {},
   "outputs": [
    {
     "ename": "ValueError",
     "evalue": "no field of name images",
     "output_type": "error",
     "traceback": [
      "\u001b[1;31m---------------------------------------------------------------------------\u001b[0m",
      "\u001b[1;31mValueError\u001b[0m                                Traceback (most recent call last)",
      "Cell \u001b[1;32mIn[17], line 1\u001b[0m\n\u001b[1;32m----> 1\u001b[0m features \u001b[38;5;241m=\u001b[39m \u001b[43mdataset\u001b[49m\u001b[43m[\u001b[49m\u001b[38;5;124;43m'\u001b[39;49m\u001b[38;5;124;43mimages\u001b[39;49m\u001b[38;5;124;43m'\u001b[39;49m\u001b[43m]\u001b[49m\n",
      "\u001b[1;31mValueError\u001b[0m: no field of name images"
     ]
    }
   ],
   "source": [
    "features = dataset['images']"
   ]
  },
  {
   "cell_type": "code",
   "execution_count": 12,
   "metadata": {},
   "outputs": [
    {
     "ename": "ValueError",
     "evalue": "no field of name images",
     "output_type": "error",
     "traceback": [
      "\u001b[1;31m---------------------------------------------------------------------------\u001b[0m",
      "\u001b[1;31mValueError\u001b[0m                                Traceback (most recent call last)",
      "Cell \u001b[1;32mIn[12], line 9\u001b[0m\n\u001b[0;32m      6\u001b[0m emnist_data \u001b[38;5;241m=\u001b[39m scipy\u001b[38;5;241m.\u001b[39mio\u001b[38;5;241m.\u001b[39mloadmat(file_path)\n\u001b[0;32m      8\u001b[0m \u001b[38;5;66;03m# Access Features and Targets\u001b[39;00m\n\u001b[1;32m----> 9\u001b[0m features \u001b[38;5;241m=\u001b[39m \u001b[43memnist_data\u001b[49m\u001b[43m[\u001b[49m\u001b[38;5;124;43m'\u001b[39;49m\u001b[38;5;124;43mdataset\u001b[39;49m\u001b[38;5;124;43m'\u001b[39;49m\u001b[43m]\u001b[49m\u001b[43m[\u001b[49m\u001b[38;5;124;43m'\u001b[39;49m\u001b[38;5;124;43mimages\u001b[39;49m\u001b[38;5;124;43m'\u001b[39;49m\u001b[43m]\u001b[49m[\u001b[38;5;241m0\u001b[39m, \u001b[38;5;241m0\u001b[39m]\n\u001b[0;32m     10\u001b[0m targets \u001b[38;5;241m=\u001b[39m emnist_data[\u001b[38;5;124m'\u001b[39m\u001b[38;5;124mdataset\u001b[39m\u001b[38;5;124m'\u001b[39m][\u001b[38;5;124m'\u001b[39m\u001b[38;5;124mlabels\u001b[39m\u001b[38;5;124m'\u001b[39m][\u001b[38;5;241m0\u001b[39m, \u001b[38;5;241m0\u001b[39m]\n\u001b[0;32m     12\u001b[0m \u001b[38;5;66;03m# Display some information about the dataset\u001b[39;00m\n",
      "\u001b[1;31mValueError\u001b[0m: no field of name images"
     ]
    }
   ],
   "source": [
    "import scipy.io\n",
    "import matplotlib.pyplot as plt\n",
    "\n",
    "# Load the MATLAB file\n",
    "file_path = 'emnist-letters.mat'\n",
    "emnist_data = scipy.io.loadmat(file_path)\n",
    "\n",
    "# Access Features and Targets\n",
    "features = emnist_data['dataset']['images'][0, 0]\n",
    "targets = emnist_data['dataset']['labels'][0, 0]\n",
    "\n",
    "# Display some information about the dataset\n",
    "print('Dataset Information:')\n",
    "print(emnist_data['dataset'])\n",
    "\n",
    "# Display a few examples\n",
    "plt.figure(figsize=(10, 3))\n",
    "for i in range(1, 6):  # Display the first 5 examples\n",
    "    plt.subplot(1, 5, i)\n",
    "    plt.imshow(features[:, :, i-1].T, cmap='gray')  # Assuming images are 2D matrices\n",
    "    plt.title(f'Label: {targets[i-1]}')\n",
    "    plt.axis('off')\n",
    "\n",
    "plt.show()\n"
   ]
  },
  {
   "cell_type": "code",
   "execution_count": 3,
   "metadata": {},
   "outputs": [
    {
     "data": {
      "text/plain": [
       "{'__header__': b'MATLAB 5.0 MAT-file, Platform: PCWIN64, Created on: Tue Dec 20 07:38:31 2016',\n",
       " '__version__': '1.0',\n",
       " '__globals__': [],\n",
       " 'dataset': array([[(array([[(array([[0, 0, 0, ..., 0, 0, 0],\n",
       "                        [0, 0, 0, ..., 0, 0, 0],\n",
       "                        [0, 0, 0, ..., 0, 0, 0],\n",
       "                        ...,\n",
       "                        [0, 0, 0, ..., 0, 0, 0],\n",
       "                        [0, 0, 0, ..., 0, 0, 0],\n",
       "                        [0, 0, 0, ..., 0, 0, 0]], dtype=uint8), array([[8],\n",
       "                        [9],\n",
       "                        [6],\n",
       "                        ...,\n",
       "                        [1],\n",
       "                        [1],\n",
       "                        [0]], dtype=uint8), array([[3315],\n",
       "                        [ 302],\n",
       "                        [2136],\n",
       "                        ...,\n",
       "                        [1486],\n",
       "                        [  43],\n",
       "                        [3747]], dtype=uint16))                            ]],\n",
       "               dtype=[('images', 'O'), ('labels', 'O'), ('writers', 'O')]), array([[(array([[0, 0, 0, ..., 0, 0, 0],\n",
       "                        [0, 0, 0, ..., 0, 0, 0],\n",
       "                        [0, 0, 0, ..., 0, 0, 0],\n",
       "                        ...,\n",
       "                        [0, 0, 0, ..., 0, 0, 0],\n",
       "                        [0, 0, 0, ..., 0, 0, 0],\n",
       "                        [0, 0, 0, ..., 0, 0, 0]], dtype=uint8), array([[0],\n",
       "                        [9],\n",
       "                        [7],\n",
       "                        ...,\n",
       "                        [3],\n",
       "                        [7],\n",
       "                        [4]], dtype=uint8), array([[3629],\n",
       "                        [ 404],\n",
       "                        [1077],\n",
       "                        ...,\n",
       "                        [ 769],\n",
       "                        [2312],\n",
       "                        [3691]], dtype=uint16))                            ]],\n",
       "               dtype=[('images', 'O'), ('labels', 'O'), ('writers', 'O')]), array([[ 0, 48],\n",
       "                [ 1, 49],\n",
       "                [ 2, 50],\n",
       "                [ 3, 51],\n",
       "                [ 4, 52],\n",
       "                [ 5, 53],\n",
       "                [ 6, 54],\n",
       "                [ 7, 55],\n",
       "                [ 8, 56],\n",
       "                [ 9, 57]], dtype=uint8))                                                                            ]],\n",
       "       dtype=[('train', 'O'), ('test', 'O'), ('mapping', 'O')])}"
      ]
     },
     "execution_count": 3,
     "metadata": {},
     "output_type": "execute_result"
    }
   ],
   "source": [
    "digits_data"
   ]
  },
  {
   "cell_type": "code",
   "execution_count": 10,
   "metadata": {},
   "outputs": [
    {
     "ename": "KeyError",
     "evalue": "'labels'",
     "output_type": "error",
     "traceback": [
      "\u001b[1;31m---------------------------------------------------------------------------\u001b[0m",
      "\u001b[1;31mKeyError\u001b[0m                                  Traceback (most recent call last)",
      "Cell \u001b[1;32mIn[10], line 1\u001b[0m\n\u001b[1;32m----> 1\u001b[0m digits_X \u001b[38;5;241m=\u001b[39m \u001b[43mdigits_data\u001b[49m\u001b[43m[\u001b[49m\u001b[38;5;124;43m'\u001b[39;49m\u001b[38;5;124;43mlabels\u001b[39;49m\u001b[38;5;124;43m'\u001b[39;49m\u001b[43m]\u001b[49m\n",
      "\u001b[1;31mKeyError\u001b[0m: 'labels'"
     ]
    }
   ],
   "source": [
    "digits_X = digits_data['labels']\n"
   ]
  },
  {
   "cell_type": "code",
   "execution_count": 11,
   "metadata": {},
   "outputs": [
    {
     "data": {
      "text/plain": [
       "array([[(array([[(array([[0, 0, 0, ..., 0, 0, 0],\n",
       "                       [0, 0, 0, ..., 0, 0, 0],\n",
       "                       [0, 0, 0, ..., 0, 0, 0],\n",
       "                       ...,\n",
       "                       [0, 0, 0, ..., 0, 0, 0],\n",
       "                       [0, 0, 0, ..., 0, 0, 0],\n",
       "                       [0, 0, 0, ..., 0, 0, 0]], dtype=uint8), array([[8],\n",
       "                       [9],\n",
       "                       [6],\n",
       "                       ...,\n",
       "                       [1],\n",
       "                       [1],\n",
       "                       [0]], dtype=uint8), array([[3315],\n",
       "                       [ 302],\n",
       "                       [2136],\n",
       "                       ...,\n",
       "                       [1486],\n",
       "                       [  43],\n",
       "                       [3747]], dtype=uint16))                            ]],\n",
       "              dtype=[('images', 'O'), ('labels', 'O'), ('writers', 'O')]), array([[(array([[0, 0, 0, ..., 0, 0, 0],\n",
       "                       [0, 0, 0, ..., 0, 0, 0],\n",
       "                       [0, 0, 0, ..., 0, 0, 0],\n",
       "                       ...,\n",
       "                       [0, 0, 0, ..., 0, 0, 0],\n",
       "                       [0, 0, 0, ..., 0, 0, 0],\n",
       "                       [0, 0, 0, ..., 0, 0, 0]], dtype=uint8), array([[0],\n",
       "                       [9],\n",
       "                       [7],\n",
       "                       ...,\n",
       "                       [3],\n",
       "                       [7],\n",
       "                       [4]], dtype=uint8), array([[3629],\n",
       "                       [ 404],\n",
       "                       [1077],\n",
       "                       ...,\n",
       "                       [ 769],\n",
       "                       [2312],\n",
       "                       [3691]], dtype=uint16))                            ]],\n",
       "              dtype=[('images', 'O'), ('labels', 'O'), ('writers', 'O')]), array([[ 0, 48],\n",
       "               [ 1, 49],\n",
       "               [ 2, 50],\n",
       "               [ 3, 51],\n",
       "               [ 4, 52],\n",
       "               [ 5, 53],\n",
       "               [ 6, 54],\n",
       "               [ 7, 55],\n",
       "               [ 8, 56],\n",
       "               [ 9, 57]], dtype=uint8))                                                                            ]],\n",
       "      dtype=[('train', 'O'), ('test', 'O'), ('mapping', 'O')])"
      ]
     },
     "execution_count": 11,
     "metadata": {},
     "output_type": "execute_result"
    }
   ],
   "source": [
    "digits_X"
   ]
  },
  {
   "cell_type": "code",
   "execution_count": null,
   "metadata": {},
   "outputs": [],
   "source": [
    "\n",
    "digits_y = digits_data['y']\n",
    "\n",
    "letters_X = letters_data['X']\n",
    "letters_y = letters_data['y']\n"
   ]
  },
  {
   "cell_type": "code",
   "execution_count": null,
   "metadata": {},
   "outputs": [],
   "source": [
    "import numpy as np\n",
    "\n",
    "X = np.concatenate((digits_X, letters_X), axis=0)\n",
    "y = np.concatenate((digits_y, letters_y), axis=0)\n"
   ]
  },
  {
   "cell_type": "code",
   "execution_count": 26,
   "metadata": {},
   "outputs": [
    {
     "ename": "ValueError",
     "evalue": "no field of name images",
     "output_type": "error",
     "traceback": [
      "\u001b[1;31m---------------------------------------------------------------------------\u001b[0m",
      "\u001b[1;31mValueError\u001b[0m                                Traceback (most recent call last)",
      "Cell \u001b[1;32mIn[26], line 8\u001b[0m\n\u001b[0;32m      5\u001b[0m dataset \u001b[38;5;241m=\u001b[39m digits_data[\u001b[38;5;124m'\u001b[39m\u001b[38;5;124mdataset\u001b[39m\u001b[38;5;124m'\u001b[39m][\u001b[38;5;241m0\u001b[39m, \u001b[38;5;241m0\u001b[39m]\n\u001b[0;32m      7\u001b[0m \u001b[38;5;66;03m# Access Features and Targets\u001b[39;00m\n\u001b[1;32m----> 8\u001b[0m features \u001b[38;5;241m=\u001b[39m \u001b[43mdataset\u001b[49m\u001b[43m[\u001b[49m\u001b[38;5;124;43m'\u001b[39;49m\u001b[38;5;124;43mimages\u001b[39;49m\u001b[38;5;124;43m'\u001b[39;49m\u001b[43m]\u001b[49m[\u001b[38;5;241m0\u001b[39m, \u001b[38;5;241m0\u001b[39m]\n\u001b[0;32m      9\u001b[0m targets \u001b[38;5;241m=\u001b[39m dataset[\u001b[38;5;124m'\u001b[39m\u001b[38;5;124mlabels\u001b[39m\u001b[38;5;124m'\u001b[39m][\u001b[38;5;241m0\u001b[39m, \u001b[38;5;241m0\u001b[39m]\n\u001b[0;32m     11\u001b[0m \u001b[38;5;66;03m# Reshape the features to their original dimensions\u001b[39;00m\n",
      "\u001b[1;31mValueError\u001b[0m: no field of name images"
     ]
    }
   ],
   "source": [
    "import numpy as np\n",
    "import matplotlib.pyplot as plt\n",
    "\n",
    "# Access the nested 'dataset' field\n",
    "dataset = digits_data['dataset'][0, 0]\n",
    "\n",
    "# Access Features and Targets\n",
    "features = dataset['images'][0, 0]\n",
    "targets = dataset['labels'][0, 0]\n",
    "\n",
    "# Reshape the features to their original dimensions\n",
    "num_examples = features.shape[2]\n",
    "original_shape = features.shape[:2]\n",
    "reshaped_features = np.reshape(features, (original_shape[0], original_shape[1], num_examples), order='F')\n",
    "\n",
    "# Display some information about the dataset\n",
    "print('Dataset Information:')\n",
    "print('Features shape:', reshaped_features.shape)\n",
    "print('Targets shape:', targets.shape)\n",
    "\n",
    "# Display a few examples\n",
    "plt.figure(figsize=(10, 3))\n",
    "for i in range(1, 6):  # Display the first 5 examples\n",
    "    plt.subplot(1, 5, i)\n",
    "    plt.imshow(reshaped_features[:, :, i-1], cmap='gray')  # Assuming images are 2D matrices\n",
    "    plt.title(f'Label: {targets[i-1]}')\n",
    "    plt.axis('off')\n",
    "\n",
    "plt.show()\n"
   ]
  },
  {
   "cell_type": "code",
   "execution_count": 2,
   "metadata": {},
   "outputs": [
    {
     "ename": "NameError",
     "evalue": "name 'tfds' is not defined",
     "output_type": "error",
     "traceback": [
      "\u001b[1;31m---------------------------------------------------------------------------\u001b[0m",
      "\u001b[1;31mNameError\u001b[0m                                 Traceback (most recent call last)",
      "Cell \u001b[1;32mIn[2], line 2\u001b[0m\n\u001b[0;32m      1\u001b[0m \u001b[38;5;66;03m# Load the letters dataset (change \"letters\" to \"digits\" for digits)\u001b[39;00m\n\u001b[1;32m----> 2\u001b[0m ds \u001b[38;5;241m=\u001b[39m \u001b[43mtfds\u001b[49m\u001b[38;5;241m.\u001b[39mload(\u001b[38;5;124m'\u001b[39m\u001b[38;5;124memnist/letters\u001b[39m\u001b[38;5;124m'\u001b[39m, split\u001b[38;5;241m=\u001b[39m\u001b[38;5;124m'\u001b[39m\u001b[38;5;124mtrain\u001b[39m\u001b[38;5;124m'\u001b[39m, shuffle_files\u001b[38;5;241m=\u001b[39m\u001b[38;5;28;01mTrue\u001b[39;00m)\n",
      "\u001b[1;31mNameError\u001b[0m: name 'tfds' is not defined"
     ]
    }
   ],
   "source": [
    "# Load the letters dataset (change \"letters\" to \"digits\" for digits)\n",
    "ds = tfds.load('emnist/letters', split='train', shuffle_files=True)\n"
   ]
  },
  {
   "cell_type": "code",
   "execution_count": null,
   "metadata": {},
   "outputs": [],
   "source": [
    "# Load the letters dataset (change \"letters\" to \"digits\" for digits)\n",
    "ds = tfds.load('emnist/letters', split='train', shuffle_files=True)\n"
   ]
  }
 ],
 "metadata": {
  "kernelspec": {
   "display_name": "Python 3",
   "language": "python",
   "name": "python3"
  },
  "language_info": {
   "codemirror_mode": {
    "name": "ipython",
    "version": 3
   },
   "file_extension": ".py",
   "mimetype": "text/x-python",
   "name": "python",
   "nbconvert_exporter": "python",
   "pygments_lexer": "ipython3",
   "version": "3.9.18"
  }
 },
 "nbformat": 4,
 "nbformat_minor": 2
}
